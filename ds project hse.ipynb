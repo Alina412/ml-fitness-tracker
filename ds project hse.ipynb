{
 "cells": [
  {
   "cell_type": "markdown",
   "metadata": {},
   "source": [
    "# Aнализ зарплат в IT"
   ]
  },
  {
   "cell_type": "code",
   "execution_count": 41,
   "metadata": {},
   "outputs": [],
   "source": [
    "import pandas as pd \n",
    "import numpy as np\n",
    "import matplotlib as plt\n",
    "import seaborn as sns\n",
    "import plotly.express as px\n",
    "import plotly.graph_objects as go\n",
    "from collections import Counter"
   ]
  },
  {
   "cell_type": "markdown",
   "metadata": {},
   "source": [
    "## EDA"
   ]
  },
  {
   "cell_type": "code",
   "execution_count": 2,
   "metadata": {},
   "outputs": [
    {
     "data": {
      "text/html": [
       "<div>\n",
       "<style scoped>\n",
       "    .dataframe tbody tr th:only-of-type {\n",
       "        vertical-align: middle;\n",
       "    }\n",
       "\n",
       "    .dataframe tbody tr th {\n",
       "        vertical-align: top;\n",
       "    }\n",
       "\n",
       "    .dataframe thead th {\n",
       "        text-align: right;\n",
       "    }\n",
       "</style>\n",
       "<table border=\"1\" class=\"dataframe\">\n",
       "  <thead>\n",
       "    <tr style=\"text-align: right;\">\n",
       "      <th></th>\n",
       "      <th>name</th>\n",
       "      <th>address</th>\n",
       "      <th>experience</th>\n",
       "      <th>skills</th>\n",
       "      <th>sal_from</th>\n",
       "      <th>sal_to</th>\n",
       "    </tr>\n",
       "  </thead>\n",
       "  <tbody>\n",
       "    <tr>\n",
       "      <th>0</th>\n",
       "      <td>Начинающий специалист по работе с нейросетям</td>\n",
       "      <td>Санкт-Петербург</td>\n",
       "      <td>От 1 года до 3 лет</td>\n",
       "      <td>Разработка технических заданий, Python, Сбор и...</td>\n",
       "      <td>55000</td>\n",
       "      <td>60000</td>\n",
       "    </tr>\n",
       "    <tr>\n",
       "      <th>1</th>\n",
       "      <td>Junior Data Engineer</td>\n",
       "      <td>Нижний Новгород</td>\n",
       "      <td>От 1 года до 3 лет</td>\n",
       "      <td>SQL, jvm, Hadoop</td>\n",
       "      <td>150000</td>\n",
       "      <td>200000</td>\n",
       "    </tr>\n",
       "    <tr>\n",
       "      <th>2</th>\n",
       "      <td>ML-инженер</td>\n",
       "      <td>Москва</td>\n",
       "      <td>Нет опыта</td>\n",
       "      <td>Знания математики, алгоритмов, структур данных...</td>\n",
       "      <td>150000</td>\n",
       "      <td>170000</td>\n",
       "    </tr>\n",
       "    <tr>\n",
       "      <th>3</th>\n",
       "      <td>Data Scientist</td>\n",
       "      <td>Москва</td>\n",
       "      <td>От 1 года до 3 лет</td>\n",
       "      <td>Python, Machine Learning, Математическое модел...</td>\n",
       "      <td>180000</td>\n",
       "      <td>200000</td>\n",
       "    </tr>\n",
       "    <tr>\n",
       "      <th>4</th>\n",
       "      <td>Python Developer (Junior)</td>\n",
       "      <td>Томск</td>\n",
       "      <td>От 1 года до 3 лет</td>\n",
       "      <td>Python, Git, ООП, MySQL</td>\n",
       "      <td>60000</td>\n",
       "      <td>110000</td>\n",
       "    </tr>\n",
       "  </tbody>\n",
       "</table>\n",
       "</div>"
      ],
      "text/plain": [
       "                                           name          address  \\\n",
       "0  Начинающий специалист по работе с нейросетям  Санкт-Петербург   \n",
       "1                          Junior Data Engineer  Нижний Новгород   \n",
       "2                                    ML-инженер           Москва   \n",
       "3                                Data Scientist           Москва   \n",
       "4                     Python Developer (Junior)            Томск   \n",
       "\n",
       "           experience                                             skills  \\\n",
       "0  От 1 года до 3 лет  Разработка технических заданий, Python, Сбор и...   \n",
       "1  От 1 года до 3 лет                                   SQL, jvm, Hadoop   \n",
       "2           Нет опыта  Знания математики, алгоритмов, структур данных...   \n",
       "3  От 1 года до 3 лет  Python, Machine Learning, Математическое модел...   \n",
       "4  От 1 года до 3 лет                            Python, Git, ООП, MySQL   \n",
       "\n",
       "   sal_from  sal_to  \n",
       "0     55000   60000  \n",
       "1    150000  200000  \n",
       "2    150000  170000  \n",
       "3    180000  200000  \n",
       "4     60000  110000  "
      ]
     },
     "execution_count": 2,
     "metadata": {},
     "output_type": "execute_result"
    }
   ],
   "source": [
    "df = pd.read_csv('DataScienceJobs.csv')\n",
    "df.head()"
   ]
  },
  {
   "cell_type": "code",
   "execution_count": 3,
   "metadata": {},
   "outputs": [
    {
     "data": {
      "text/plain": [
       "name\n",
       "Data Scientist                                       36\n",
       "Data Engineer                                        18\n",
       "Senior Data Scientist                                 8\n",
       "ML Engineer                                           6\n",
       "Machine Learning Engineer                             6\n",
       "                                                     ..\n",
       "Senior Data Scientist CV (Generative design)          1\n",
       "Ведущий специалист по разработке скоринговых карт     1\n",
       "Lead data scientist (Анализ цены и Trade in)          1\n",
       "Data engineer (middle+)                               1\n",
       "Автор дисциплины \"Задачи NLP в машинном обучении\"     1\n",
       "Name: count, Length: 246, dtype: int64"
      ]
     },
     "execution_count": 3,
     "metadata": {},
     "output_type": "execute_result"
    }
   ],
   "source": [
    "df['name'].value_counts() ## построим частотную таблицу"
   ]
  },
  {
   "cell_type": "code",
   "execution_count": 4,
   "metadata": {},
   "outputs": [
    {
     "data": {
      "text/plain": [
       "246"
      ]
     },
     "execution_count": 4,
     "metadata": {},
     "output_type": "execute_result"
    }
   ],
   "source": [
    "df['name'].nunique() # посчитаем количество уникальных названий вакансий в наборе"
   ]
  },
  {
   "cell_type": "code",
   "execution_count": 5,
   "metadata": {},
   "outputs": [
    {
     "data": {
      "text/plain": [
       "0    Data Scientist\n",
       "Name: name, dtype: object"
      ]
     },
     "execution_count": 5,
     "metadata": {},
     "output_type": "execute_result"
    }
   ],
   "source": [
    "df['name'].mode() # самое часто встречающееся название вакансии, мода"
   ]
  },
  {
   "cell_type": "code",
   "execution_count": 6,
   "metadata": {},
   "outputs": [
    {
     "data": {
      "text/plain": [
       "(151, 6)"
      ]
     },
     "execution_count": 6,
     "metadata": {},
     "output_type": "execute_result"
    }
   ],
   "source": [
    "# найдем вакансии, в названии которых встречается Data Scientist или Data scientist или data scientist\n",
    "\n",
    "df[(df['name'].str.contains('Data Scientist')) \n",
    "   | (df['name'].str.contains('Data scientist')) \n",
    "   | (df['name'].str.contains('data scientist'))].shape"
   ]
  },
  {
   "cell_type": "code",
   "execution_count": 7,
   "metadata": {},
   "outputs": [
    {
     "data": {
      "text/plain": [
       "address\n",
       "Москва                52.222222\n",
       "Санкт-Петербург       11.111111\n",
       "Московская область     7.777778\n",
       "Новосибирск            7.500000\n",
       "Казань                 4.166667\n",
       "Нижний Новгород        4.166667\n",
       "Екатеринбург           4.166667\n",
       "Тюмень                 3.055556\n",
       "Томск                  2.777778\n",
       "Сочи                   2.222222\n",
       "Владивосток            0.555556\n",
       "Астрахань              0.277778\n",
       "Name: proportion, dtype: float64"
      ]
     },
     "execution_count": 7,
     "metadata": {},
     "output_type": "execute_result"
    }
   ],
   "source": [
    "df['address'].value_counts(normalize=True) * 100 # частотная таблица вакансий в городах в процентах"
   ]
  },
  {
   "cell_type": "code",
   "execution_count": 9,
   "metadata": {},
   "outputs": [
    {
     "data": {
      "text/plain": [
       "experience\n",
       "От 3 до 6 лет         199\n",
       "От 1 года до 3 лет    140\n",
       "Более 6 лет            12\n",
       "Нет опыта               9\n",
       "Name: count, dtype: int64"
      ]
     },
     "execution_count": 9,
     "metadata": {},
     "output_type": "execute_result"
    }
   ],
   "source": [
    "df['experience'].value_counts() #Посмотрим на требуемый опыт"
   ]
  },
  {
   "cell_type": "code",
   "execution_count": 17,
   "metadata": {},
   "outputs": [
    {
     "data": {
      "text/html": [
       "<div>\n",
       "<style scoped>\n",
       "    .dataframe tbody tr th:only-of-type {\n",
       "        vertical-align: middle;\n",
       "    }\n",
       "\n",
       "    .dataframe tbody tr th {\n",
       "        vertical-align: top;\n",
       "    }\n",
       "\n",
       "    .dataframe thead th {\n",
       "        text-align: right;\n",
       "    }\n",
       "</style>\n",
       "<table border=\"1\" class=\"dataframe\">\n",
       "  <thead>\n",
       "    <tr style=\"text-align: right;\">\n",
       "      <th></th>\n",
       "      <th>sal_from</th>\n",
       "      <th>sal_to</th>\n",
       "    </tr>\n",
       "  </thead>\n",
       "  <tbody>\n",
       "    <tr>\n",
       "      <th>count</th>\n",
       "      <td>360.000000</td>\n",
       "      <td>360.000000</td>\n",
       "    </tr>\n",
       "    <tr>\n",
       "      <th>mean</th>\n",
       "      <td>182694.444444</td>\n",
       "      <td>231416.666667</td>\n",
       "    </tr>\n",
       "    <tr>\n",
       "      <th>std</th>\n",
       "      <td>70581.279109</td>\n",
       "      <td>79938.651617</td>\n",
       "    </tr>\n",
       "    <tr>\n",
       "      <th>min</th>\n",
       "      <td>45000.000000</td>\n",
       "      <td>55000.000000</td>\n",
       "    </tr>\n",
       "    <tr>\n",
       "      <th>25%</th>\n",
       "      <td>120000.000000</td>\n",
       "      <td>170000.000000</td>\n",
       "    </tr>\n",
       "    <tr>\n",
       "      <th>50%</th>\n",
       "      <td>180000.000000</td>\n",
       "      <td>225000.000000</td>\n",
       "    </tr>\n",
       "    <tr>\n",
       "      <th>75%</th>\n",
       "      <td>242500.000000</td>\n",
       "      <td>290000.000000</td>\n",
       "    </tr>\n",
       "    <tr>\n",
       "      <th>max</th>\n",
       "      <td>350000.000000</td>\n",
       "      <td>570000.000000</td>\n",
       "    </tr>\n",
       "  </tbody>\n",
       "</table>\n",
       "</div>"
      ],
      "text/plain": [
       "            sal_from         sal_to\n",
       "count     360.000000     360.000000\n",
       "mean   182694.444444  231416.666667\n",
       "std     70581.279109   79938.651617\n",
       "min     45000.000000   55000.000000\n",
       "25%    120000.000000  170000.000000\n",
       "50%    180000.000000  225000.000000\n",
       "75%    242500.000000  290000.000000\n",
       "max    350000.000000  570000.000000"
      ]
     },
     "execution_count": 17,
     "metadata": {},
     "output_type": "execute_result"
    }
   ],
   "source": [
    "df.describe() #описательные статистики"
   ]
  },
  {
   "cell_type": "markdown",
   "metadata": {},
   "source": [
    "## Визуализация"
   ]
  },
  {
   "cell_type": "markdown",
   "metadata": {},
   "source": [
    "### Вопрос 1. В каких городах больше всего вакансий для Data Scientists?"
   ]
  },
  {
   "cell_type": "code",
   "execution_count": 24,
   "metadata": {},
   "outputs": [
    {
     "data": {
      "text/html": [
       "<div>\n",
       "<style scoped>\n",
       "    .dataframe tbody tr th:only-of-type {\n",
       "        vertical-align: middle;\n",
       "    }\n",
       "\n",
       "    .dataframe tbody tr th {\n",
       "        vertical-align: top;\n",
       "    }\n",
       "\n",
       "    .dataframe thead th {\n",
       "        text-align: right;\n",
       "    }\n",
       "</style>\n",
       "<table border=\"1\" class=\"dataframe\">\n",
       "  <thead>\n",
       "    <tr style=\"text-align: right;\">\n",
       "      <th></th>\n",
       "      <th>address</th>\n",
       "      <th>count</th>\n",
       "    </tr>\n",
       "  </thead>\n",
       "  <tbody>\n",
       "    <tr>\n",
       "      <th>0</th>\n",
       "      <td>Москва</td>\n",
       "      <td>188</td>\n",
       "    </tr>\n",
       "    <tr>\n",
       "      <th>1</th>\n",
       "      <td>Санкт-Петербург</td>\n",
       "      <td>40</td>\n",
       "    </tr>\n",
       "    <tr>\n",
       "      <th>2</th>\n",
       "      <td>Московская область</td>\n",
       "      <td>28</td>\n",
       "    </tr>\n",
       "    <tr>\n",
       "      <th>3</th>\n",
       "      <td>Новосибирск</td>\n",
       "      <td>27</td>\n",
       "    </tr>\n",
       "    <tr>\n",
       "      <th>4</th>\n",
       "      <td>Казань</td>\n",
       "      <td>15</td>\n",
       "    </tr>\n",
       "  </tbody>\n",
       "</table>\n",
       "</div>"
      ],
      "text/plain": [
       "              address  count\n",
       "0              Москва    188\n",
       "1     Санкт-Петербург     40\n",
       "2  Московская область     28\n",
       "3         Новосибирск     27\n",
       "4              Казань     15"
      ]
     },
     "execution_count": 24,
     "metadata": {},
     "output_type": "execute_result"
    }
   ],
   "source": [
    "top_cities = df['address'].value_counts()[:5]\n",
    "top_cities = top_cities.to_frame().reset_index()\n",
    "top_cities"
   ]
  },
  {
   "cell_type": "code",
   "execution_count": 26,
   "metadata": {},
   "outputs": [
    {
     "data": {
      "application/vnd.plotly.v1+json": {
       "config": {
        "plotlyServerURL": "https://plot.ly"
       },
       "data": [
        {
         "domain": {
          "x": [
           0,
           1
          ],
          "y": [
           0,
           1
          ]
         },
         "hovertemplate": "address=%{label}<br>count=%{value}<extra></extra>",
         "labels": [
          "Москва",
          "Санкт-Петербург",
          "Московская область",
          "Новосибирск",
          "Казань"
         ],
         "legendgroup": "",
         "name": "",
         "showlegend": true,
         "type": "pie",
         "values": {
          "bdata": "vAAoABwAGwAPAA==",
          "dtype": "i2"
         }
        }
       ],
       "layout": {
        "legend": {
         "tracegroupgap": 0
        },
        "template": {
         "data": {
          "bar": [
           {
            "error_x": {
             "color": "#2a3f5f"
            },
            "error_y": {
             "color": "#2a3f5f"
            },
            "marker": {
             "line": {
              "color": "#E5ECF6",
              "width": 0.5
             },
             "pattern": {
              "fillmode": "overlay",
              "size": 10,
              "solidity": 0.2
             }
            },
            "type": "bar"
           }
          ],
          "barpolar": [
           {
            "marker": {
             "line": {
              "color": "#E5ECF6",
              "width": 0.5
             },
             "pattern": {
              "fillmode": "overlay",
              "size": 10,
              "solidity": 0.2
             }
            },
            "type": "barpolar"
           }
          ],
          "carpet": [
           {
            "aaxis": {
             "endlinecolor": "#2a3f5f",
             "gridcolor": "white",
             "linecolor": "white",
             "minorgridcolor": "white",
             "startlinecolor": "#2a3f5f"
            },
            "baxis": {
             "endlinecolor": "#2a3f5f",
             "gridcolor": "white",
             "linecolor": "white",
             "minorgridcolor": "white",
             "startlinecolor": "#2a3f5f"
            },
            "type": "carpet"
           }
          ],
          "choropleth": [
           {
            "colorbar": {
             "outlinewidth": 0,
             "ticks": ""
            },
            "type": "choropleth"
           }
          ],
          "contour": [
           {
            "colorbar": {
             "outlinewidth": 0,
             "ticks": ""
            },
            "colorscale": [
             [
              0,
              "#0d0887"
             ],
             [
              0.1111111111111111,
              "#46039f"
             ],
             [
              0.2222222222222222,
              "#7201a8"
             ],
             [
              0.3333333333333333,
              "#9c179e"
             ],
             [
              0.4444444444444444,
              "#bd3786"
             ],
             [
              0.5555555555555556,
              "#d8576b"
             ],
             [
              0.6666666666666666,
              "#ed7953"
             ],
             [
              0.7777777777777778,
              "#fb9f3a"
             ],
             [
              0.8888888888888888,
              "#fdca26"
             ],
             [
              1,
              "#f0f921"
             ]
            ],
            "type": "contour"
           }
          ],
          "contourcarpet": [
           {
            "colorbar": {
             "outlinewidth": 0,
             "ticks": ""
            },
            "type": "contourcarpet"
           }
          ],
          "heatmap": [
           {
            "colorbar": {
             "outlinewidth": 0,
             "ticks": ""
            },
            "colorscale": [
             [
              0,
              "#0d0887"
             ],
             [
              0.1111111111111111,
              "#46039f"
             ],
             [
              0.2222222222222222,
              "#7201a8"
             ],
             [
              0.3333333333333333,
              "#9c179e"
             ],
             [
              0.4444444444444444,
              "#bd3786"
             ],
             [
              0.5555555555555556,
              "#d8576b"
             ],
             [
              0.6666666666666666,
              "#ed7953"
             ],
             [
              0.7777777777777778,
              "#fb9f3a"
             ],
             [
              0.8888888888888888,
              "#fdca26"
             ],
             [
              1,
              "#f0f921"
             ]
            ],
            "type": "heatmap"
           }
          ],
          "histogram": [
           {
            "marker": {
             "pattern": {
              "fillmode": "overlay",
              "size": 10,
              "solidity": 0.2
             }
            },
            "type": "histogram"
           }
          ],
          "histogram2d": [
           {
            "colorbar": {
             "outlinewidth": 0,
             "ticks": ""
            },
            "colorscale": [
             [
              0,
              "#0d0887"
             ],
             [
              0.1111111111111111,
              "#46039f"
             ],
             [
              0.2222222222222222,
              "#7201a8"
             ],
             [
              0.3333333333333333,
              "#9c179e"
             ],
             [
              0.4444444444444444,
              "#bd3786"
             ],
             [
              0.5555555555555556,
              "#d8576b"
             ],
             [
              0.6666666666666666,
              "#ed7953"
             ],
             [
              0.7777777777777778,
              "#fb9f3a"
             ],
             [
              0.8888888888888888,
              "#fdca26"
             ],
             [
              1,
              "#f0f921"
             ]
            ],
            "type": "histogram2d"
           }
          ],
          "histogram2dcontour": [
           {
            "colorbar": {
             "outlinewidth": 0,
             "ticks": ""
            },
            "colorscale": [
             [
              0,
              "#0d0887"
             ],
             [
              0.1111111111111111,
              "#46039f"
             ],
             [
              0.2222222222222222,
              "#7201a8"
             ],
             [
              0.3333333333333333,
              "#9c179e"
             ],
             [
              0.4444444444444444,
              "#bd3786"
             ],
             [
              0.5555555555555556,
              "#d8576b"
             ],
             [
              0.6666666666666666,
              "#ed7953"
             ],
             [
              0.7777777777777778,
              "#fb9f3a"
             ],
             [
              0.8888888888888888,
              "#fdca26"
             ],
             [
              1,
              "#f0f921"
             ]
            ],
            "type": "histogram2dcontour"
           }
          ],
          "mesh3d": [
           {
            "colorbar": {
             "outlinewidth": 0,
             "ticks": ""
            },
            "type": "mesh3d"
           }
          ],
          "parcoords": [
           {
            "line": {
             "colorbar": {
              "outlinewidth": 0,
              "ticks": ""
             }
            },
            "type": "parcoords"
           }
          ],
          "pie": [
           {
            "automargin": true,
            "type": "pie"
           }
          ],
          "scatter": [
           {
            "fillpattern": {
             "fillmode": "overlay",
             "size": 10,
             "solidity": 0.2
            },
            "type": "scatter"
           }
          ],
          "scatter3d": [
           {
            "line": {
             "colorbar": {
              "outlinewidth": 0,
              "ticks": ""
             }
            },
            "marker": {
             "colorbar": {
              "outlinewidth": 0,
              "ticks": ""
             }
            },
            "type": "scatter3d"
           }
          ],
          "scattercarpet": [
           {
            "marker": {
             "colorbar": {
              "outlinewidth": 0,
              "ticks": ""
             }
            },
            "type": "scattercarpet"
           }
          ],
          "scattergeo": [
           {
            "marker": {
             "colorbar": {
              "outlinewidth": 0,
              "ticks": ""
             }
            },
            "type": "scattergeo"
           }
          ],
          "scattergl": [
           {
            "marker": {
             "colorbar": {
              "outlinewidth": 0,
              "ticks": ""
             }
            },
            "type": "scattergl"
           }
          ],
          "scattermap": [
           {
            "marker": {
             "colorbar": {
              "outlinewidth": 0,
              "ticks": ""
             }
            },
            "type": "scattermap"
           }
          ],
          "scattermapbox": [
           {
            "marker": {
             "colorbar": {
              "outlinewidth": 0,
              "ticks": ""
             }
            },
            "type": "scattermapbox"
           }
          ],
          "scatterpolar": [
           {
            "marker": {
             "colorbar": {
              "outlinewidth": 0,
              "ticks": ""
             }
            },
            "type": "scatterpolar"
           }
          ],
          "scatterpolargl": [
           {
            "marker": {
             "colorbar": {
              "outlinewidth": 0,
              "ticks": ""
             }
            },
            "type": "scatterpolargl"
           }
          ],
          "scatterternary": [
           {
            "marker": {
             "colorbar": {
              "outlinewidth": 0,
              "ticks": ""
             }
            },
            "type": "scatterternary"
           }
          ],
          "surface": [
           {
            "colorbar": {
             "outlinewidth": 0,
             "ticks": ""
            },
            "colorscale": [
             [
              0,
              "#0d0887"
             ],
             [
              0.1111111111111111,
              "#46039f"
             ],
             [
              0.2222222222222222,
              "#7201a8"
             ],
             [
              0.3333333333333333,
              "#9c179e"
             ],
             [
              0.4444444444444444,
              "#bd3786"
             ],
             [
              0.5555555555555556,
              "#d8576b"
             ],
             [
              0.6666666666666666,
              "#ed7953"
             ],
             [
              0.7777777777777778,
              "#fb9f3a"
             ],
             [
              0.8888888888888888,
              "#fdca26"
             ],
             [
              1,
              "#f0f921"
             ]
            ],
            "type": "surface"
           }
          ],
          "table": [
           {
            "cells": {
             "fill": {
              "color": "#EBF0F8"
             },
             "line": {
              "color": "white"
             }
            },
            "header": {
             "fill": {
              "color": "#C8D4E3"
             },
             "line": {
              "color": "white"
             }
            },
            "type": "table"
           }
          ]
         },
         "layout": {
          "annotationdefaults": {
           "arrowcolor": "#2a3f5f",
           "arrowhead": 0,
           "arrowwidth": 1
          },
          "autotypenumbers": "strict",
          "coloraxis": {
           "colorbar": {
            "outlinewidth": 0,
            "ticks": ""
           }
          },
          "colorscale": {
           "diverging": [
            [
             0,
             "#8e0152"
            ],
            [
             0.1,
             "#c51b7d"
            ],
            [
             0.2,
             "#de77ae"
            ],
            [
             0.3,
             "#f1b6da"
            ],
            [
             0.4,
             "#fde0ef"
            ],
            [
             0.5,
             "#f7f7f7"
            ],
            [
             0.6,
             "#e6f5d0"
            ],
            [
             0.7,
             "#b8e186"
            ],
            [
             0.8,
             "#7fbc41"
            ],
            [
             0.9,
             "#4d9221"
            ],
            [
             1,
             "#276419"
            ]
           ],
           "sequential": [
            [
             0,
             "#0d0887"
            ],
            [
             0.1111111111111111,
             "#46039f"
            ],
            [
             0.2222222222222222,
             "#7201a8"
            ],
            [
             0.3333333333333333,
             "#9c179e"
            ],
            [
             0.4444444444444444,
             "#bd3786"
            ],
            [
             0.5555555555555556,
             "#d8576b"
            ],
            [
             0.6666666666666666,
             "#ed7953"
            ],
            [
             0.7777777777777778,
             "#fb9f3a"
            ],
            [
             0.8888888888888888,
             "#fdca26"
            ],
            [
             1,
             "#f0f921"
            ]
           ],
           "sequentialminus": [
            [
             0,
             "#0d0887"
            ],
            [
             0.1111111111111111,
             "#46039f"
            ],
            [
             0.2222222222222222,
             "#7201a8"
            ],
            [
             0.3333333333333333,
             "#9c179e"
            ],
            [
             0.4444444444444444,
             "#bd3786"
            ],
            [
             0.5555555555555556,
             "#d8576b"
            ],
            [
             0.6666666666666666,
             "#ed7953"
            ],
            [
             0.7777777777777778,
             "#fb9f3a"
            ],
            [
             0.8888888888888888,
             "#fdca26"
            ],
            [
             1,
             "#f0f921"
            ]
           ]
          },
          "colorway": [
           "#636efa",
           "#EF553B",
           "#00cc96",
           "#ab63fa",
           "#FFA15A",
           "#19d3f3",
           "#FF6692",
           "#B6E880",
           "#FF97FF",
           "#FECB52"
          ],
          "font": {
           "color": "#2a3f5f"
          },
          "geo": {
           "bgcolor": "white",
           "lakecolor": "white",
           "landcolor": "#E5ECF6",
           "showlakes": true,
           "showland": true,
           "subunitcolor": "white"
          },
          "hoverlabel": {
           "align": "left"
          },
          "hovermode": "closest",
          "mapbox": {
           "style": "light"
          },
          "paper_bgcolor": "white",
          "plot_bgcolor": "#E5ECF6",
          "polar": {
           "angularaxis": {
            "gridcolor": "white",
            "linecolor": "white",
            "ticks": ""
           },
           "bgcolor": "#E5ECF6",
           "radialaxis": {
            "gridcolor": "white",
            "linecolor": "white",
            "ticks": ""
           }
          },
          "scene": {
           "xaxis": {
            "backgroundcolor": "#E5ECF6",
            "gridcolor": "white",
            "gridwidth": 2,
            "linecolor": "white",
            "showbackground": true,
            "ticks": "",
            "zerolinecolor": "white"
           },
           "yaxis": {
            "backgroundcolor": "#E5ECF6",
            "gridcolor": "white",
            "gridwidth": 2,
            "linecolor": "white",
            "showbackground": true,
            "ticks": "",
            "zerolinecolor": "white"
           },
           "zaxis": {
            "backgroundcolor": "#E5ECF6",
            "gridcolor": "white",
            "gridwidth": 2,
            "linecolor": "white",
            "showbackground": true,
            "ticks": "",
            "zerolinecolor": "white"
           }
          },
          "shapedefaults": {
           "line": {
            "color": "#2a3f5f"
           }
          },
          "ternary": {
           "aaxis": {
            "gridcolor": "white",
            "linecolor": "white",
            "ticks": ""
           },
           "baxis": {
            "gridcolor": "white",
            "linecolor": "white",
            "ticks": ""
           },
           "bgcolor": "#E5ECF6",
           "caxis": {
            "gridcolor": "white",
            "linecolor": "white",
            "ticks": ""
           }
          },
          "title": {
           "x": 0.05
          },
          "xaxis": {
           "automargin": true,
           "gridcolor": "white",
           "linecolor": "white",
           "ticks": "",
           "title": {
            "standoff": 15
           },
           "zerolinecolor": "white",
           "zerolinewidth": 2
          },
          "yaxis": {
           "automargin": true,
           "gridcolor": "white",
           "linecolor": "white",
           "ticks": "",
           "title": {
            "standoff": 15
           },
           "zerolinecolor": "white",
           "zerolinewidth": 2
          }
         }
        },
        "title": {
         "text": "Самые популярные города"
        }
       }
      }
     },
     "metadata": {},
     "output_type": "display_data"
    }
   ],
   "source": [
    "fig = px.pie(top_cities, values= 'count', names = 'address', title='Самые популярные города')\n",
    "fig"
   ]
  },
  {
   "cell_type": "markdown",
   "metadata": {},
   "source": [
    "### Вопрос 2. Какие навыки требуются на рынке? Чему учиться?"
   ]
  },
  {
   "cell_type": "code",
   "execution_count": 39,
   "metadata": {},
   "outputs": [
    {
     "data": {
      "text/html": [
       "<div>\n",
       "<style scoped>\n",
       "    .dataframe tbody tr th:only-of-type {\n",
       "        vertical-align: middle;\n",
       "    }\n",
       "\n",
       "    .dataframe tbody tr th {\n",
       "        vertical-align: top;\n",
       "    }\n",
       "\n",
       "    .dataframe thead th {\n",
       "        text-align: right;\n",
       "    }\n",
       "</style>\n",
       "<table border=\"1\" class=\"dataframe\">\n",
       "  <thead>\n",
       "    <tr style=\"text-align: right;\">\n",
       "      <th></th>\n",
       "      <th>skill</th>\n",
       "      <th>num</th>\n",
       "    </tr>\n",
       "  </thead>\n",
       "  <tbody>\n",
       "    <tr>\n",
       "      <th>0</th>\n",
       "      <td>PYTHON</td>\n",
       "      <td>255</td>\n",
       "    </tr>\n",
       "    <tr>\n",
       "      <th>1</th>\n",
       "      <td>SQL</td>\n",
       "      <td>165</td>\n",
       "    </tr>\n",
       "    <tr>\n",
       "      <th>2</th>\n",
       "      <td>ДАННЫХ</td>\n",
       "      <td>90</td>\n",
       "    </tr>\n",
       "    <tr>\n",
       "      <th>3</th>\n",
       "      <td>DATA</td>\n",
       "      <td>87</td>\n",
       "    </tr>\n",
       "    <tr>\n",
       "      <th>4</th>\n",
       "      <td>ML</td>\n",
       "      <td>82</td>\n",
       "    </tr>\n",
       "    <tr>\n",
       "      <th>5</th>\n",
       "      <td>LEARNING</td>\n",
       "      <td>80</td>\n",
       "    </tr>\n",
       "    <tr>\n",
       "      <th>6</th>\n",
       "      <td>ОПЫТ</td>\n",
       "      <td>76</td>\n",
       "    </tr>\n",
       "    <tr>\n",
       "      <th>7</th>\n",
       "      <td>MACHINE</td>\n",
       "      <td>64</td>\n",
       "    </tr>\n",
       "    <tr>\n",
       "      <th>8</th>\n",
       "      <td>PYTORCH</td>\n",
       "      <td>63</td>\n",
       "    </tr>\n",
       "    <tr>\n",
       "      <th>9</th>\n",
       "      <td>РАБОТЫ</td>\n",
       "      <td>54</td>\n",
       "    </tr>\n",
       "    <tr>\n",
       "      <th>10</th>\n",
       "      <td>PANDAS</td>\n",
       "      <td>51</td>\n",
       "    </tr>\n",
       "    <tr>\n",
       "      <th>11</th>\n",
       "      <td>АНАЛИЗ</td>\n",
       "      <td>47</td>\n",
       "    </tr>\n",
       "    <tr>\n",
       "      <th>12</th>\n",
       "      <td>NLP</td>\n",
       "      <td>47</td>\n",
       "    </tr>\n",
       "    <tr>\n",
       "      <th>13</th>\n",
       "      <td>GIT</td>\n",
       "      <td>42</td>\n",
       "    </tr>\n",
       "    <tr>\n",
       "      <th>14</th>\n",
       "      <td>SPARK</td>\n",
       "      <td>42</td>\n",
       "    </tr>\n",
       "  </tbody>\n",
       "</table>\n",
       "</div>"
      ],
      "text/plain": [
       "       skill  num\n",
       "0     PYTHON  255\n",
       "1        SQL  165\n",
       "2     ДАННЫХ   90\n",
       "3       DATA   87\n",
       "4         ML   82\n",
       "5   LEARNING   80\n",
       "6       ОПЫТ   76\n",
       "7    MACHINE   64\n",
       "8    PYTORCH   63\n",
       "9     РАБОТЫ   54\n",
       "10    PANDAS   51\n",
       "11    АНАЛИЗ   47\n",
       "12       NLP   47\n",
       "13       GIT   42\n",
       "14     SPARK   42"
      ]
     },
     "execution_count": 39,
     "metadata": {},
     "output_type": "execute_result"
    }
   ],
   "source": [
    "skills = df['skills'].str.cat(sep = ' ').lower().replace(',', '').replace(';', '').split()\n",
    "skills = [skill for skill in skills if len(skill) > 1]\n",
    "\n",
    "skills_vis = Counter(skills).most_common(15)\n",
    "sk = pd.DataFrame(skills_vis, columns = ['skill', 'num'])\n",
    "sk['skill'] = sk['skill'].str.upper() # приведем все названия к верхнему регистру\n",
    "sk\n"
   ]
  },
  {
   "cell_type": "code",
   "execution_count": 42,
   "metadata": {},
   "outputs": [
    {
     "data": {
      "application/vnd.plotly.v1+json": {
       "config": {
        "plotlyServerURL": "https://plot.ly"
       },
       "data": [
        {
         "hovertemplate": "<b>%{label}</b>\n <br>Доля: %{percent} </br>Количество: %{value} упоминаний",
         "labels": [
          "PYTHON",
          "SQL",
          "ДАННЫХ",
          "DATA",
          "ML",
          "LEARNING",
          "ОПЫТ",
          "MACHINE",
          "PYTORCH",
          "РАБОТЫ",
          "PANDAS",
          "АНАЛИЗ",
          "NLP",
          "GIT",
          "SPARK"
         ],
         "name": "",
         "type": "pie",
         "values": {
          "bdata": "/wClAFoAVwBSAFAATABAAD8ANgAzAC8ALwAqACoA",
          "dtype": "i2"
         }
        }
       ],
       "layout": {
        "template": {
         "data": {
          "bar": [
           {
            "error_x": {
             "color": "#2a3f5f"
            },
            "error_y": {
             "color": "#2a3f5f"
            },
            "marker": {
             "line": {
              "color": "#E5ECF6",
              "width": 0.5
             },
             "pattern": {
              "fillmode": "overlay",
              "size": 10,
              "solidity": 0.2
             }
            },
            "type": "bar"
           }
          ],
          "barpolar": [
           {
            "marker": {
             "line": {
              "color": "#E5ECF6",
              "width": 0.5
             },
             "pattern": {
              "fillmode": "overlay",
              "size": 10,
              "solidity": 0.2
             }
            },
            "type": "barpolar"
           }
          ],
          "carpet": [
           {
            "aaxis": {
             "endlinecolor": "#2a3f5f",
             "gridcolor": "white",
             "linecolor": "white",
             "minorgridcolor": "white",
             "startlinecolor": "#2a3f5f"
            },
            "baxis": {
             "endlinecolor": "#2a3f5f",
             "gridcolor": "white",
             "linecolor": "white",
             "minorgridcolor": "white",
             "startlinecolor": "#2a3f5f"
            },
            "type": "carpet"
           }
          ],
          "choropleth": [
           {
            "colorbar": {
             "outlinewidth": 0,
             "ticks": ""
            },
            "type": "choropleth"
           }
          ],
          "contour": [
           {
            "colorbar": {
             "outlinewidth": 0,
             "ticks": ""
            },
            "colorscale": [
             [
              0,
              "#0d0887"
             ],
             [
              0.1111111111111111,
              "#46039f"
             ],
             [
              0.2222222222222222,
              "#7201a8"
             ],
             [
              0.3333333333333333,
              "#9c179e"
             ],
             [
              0.4444444444444444,
              "#bd3786"
             ],
             [
              0.5555555555555556,
              "#d8576b"
             ],
             [
              0.6666666666666666,
              "#ed7953"
             ],
             [
              0.7777777777777778,
              "#fb9f3a"
             ],
             [
              0.8888888888888888,
              "#fdca26"
             ],
             [
              1,
              "#f0f921"
             ]
            ],
            "type": "contour"
           }
          ],
          "contourcarpet": [
           {
            "colorbar": {
             "outlinewidth": 0,
             "ticks": ""
            },
            "type": "contourcarpet"
           }
          ],
          "heatmap": [
           {
            "colorbar": {
             "outlinewidth": 0,
             "ticks": ""
            },
            "colorscale": [
             [
              0,
              "#0d0887"
             ],
             [
              0.1111111111111111,
              "#46039f"
             ],
             [
              0.2222222222222222,
              "#7201a8"
             ],
             [
              0.3333333333333333,
              "#9c179e"
             ],
             [
              0.4444444444444444,
              "#bd3786"
             ],
             [
              0.5555555555555556,
              "#d8576b"
             ],
             [
              0.6666666666666666,
              "#ed7953"
             ],
             [
              0.7777777777777778,
              "#fb9f3a"
             ],
             [
              0.8888888888888888,
              "#fdca26"
             ],
             [
              1,
              "#f0f921"
             ]
            ],
            "type": "heatmap"
           }
          ],
          "histogram": [
           {
            "marker": {
             "pattern": {
              "fillmode": "overlay",
              "size": 10,
              "solidity": 0.2
             }
            },
            "type": "histogram"
           }
          ],
          "histogram2d": [
           {
            "colorbar": {
             "outlinewidth": 0,
             "ticks": ""
            },
            "colorscale": [
             [
              0,
              "#0d0887"
             ],
             [
              0.1111111111111111,
              "#46039f"
             ],
             [
              0.2222222222222222,
              "#7201a8"
             ],
             [
              0.3333333333333333,
              "#9c179e"
             ],
             [
              0.4444444444444444,
              "#bd3786"
             ],
             [
              0.5555555555555556,
              "#d8576b"
             ],
             [
              0.6666666666666666,
              "#ed7953"
             ],
             [
              0.7777777777777778,
              "#fb9f3a"
             ],
             [
              0.8888888888888888,
              "#fdca26"
             ],
             [
              1,
              "#f0f921"
             ]
            ],
            "type": "histogram2d"
           }
          ],
          "histogram2dcontour": [
           {
            "colorbar": {
             "outlinewidth": 0,
             "ticks": ""
            },
            "colorscale": [
             [
              0,
              "#0d0887"
             ],
             [
              0.1111111111111111,
              "#46039f"
             ],
             [
              0.2222222222222222,
              "#7201a8"
             ],
             [
              0.3333333333333333,
              "#9c179e"
             ],
             [
              0.4444444444444444,
              "#bd3786"
             ],
             [
              0.5555555555555556,
              "#d8576b"
             ],
             [
              0.6666666666666666,
              "#ed7953"
             ],
             [
              0.7777777777777778,
              "#fb9f3a"
             ],
             [
              0.8888888888888888,
              "#fdca26"
             ],
             [
              1,
              "#f0f921"
             ]
            ],
            "type": "histogram2dcontour"
           }
          ],
          "mesh3d": [
           {
            "colorbar": {
             "outlinewidth": 0,
             "ticks": ""
            },
            "type": "mesh3d"
           }
          ],
          "parcoords": [
           {
            "line": {
             "colorbar": {
              "outlinewidth": 0,
              "ticks": ""
             }
            },
            "type": "parcoords"
           }
          ],
          "pie": [
           {
            "automargin": true,
            "type": "pie"
           }
          ],
          "scatter": [
           {
            "fillpattern": {
             "fillmode": "overlay",
             "size": 10,
             "solidity": 0.2
            },
            "type": "scatter"
           }
          ],
          "scatter3d": [
           {
            "line": {
             "colorbar": {
              "outlinewidth": 0,
              "ticks": ""
             }
            },
            "marker": {
             "colorbar": {
              "outlinewidth": 0,
              "ticks": ""
             }
            },
            "type": "scatter3d"
           }
          ],
          "scattercarpet": [
           {
            "marker": {
             "colorbar": {
              "outlinewidth": 0,
              "ticks": ""
             }
            },
            "type": "scattercarpet"
           }
          ],
          "scattergeo": [
           {
            "marker": {
             "colorbar": {
              "outlinewidth": 0,
              "ticks": ""
             }
            },
            "type": "scattergeo"
           }
          ],
          "scattergl": [
           {
            "marker": {
             "colorbar": {
              "outlinewidth": 0,
              "ticks": ""
             }
            },
            "type": "scattergl"
           }
          ],
          "scattermap": [
           {
            "marker": {
             "colorbar": {
              "outlinewidth": 0,
              "ticks": ""
             }
            },
            "type": "scattermap"
           }
          ],
          "scattermapbox": [
           {
            "marker": {
             "colorbar": {
              "outlinewidth": 0,
              "ticks": ""
             }
            },
            "type": "scattermapbox"
           }
          ],
          "scatterpolar": [
           {
            "marker": {
             "colorbar": {
              "outlinewidth": 0,
              "ticks": ""
             }
            },
            "type": "scatterpolar"
           }
          ],
          "scatterpolargl": [
           {
            "marker": {
             "colorbar": {
              "outlinewidth": 0,
              "ticks": ""
             }
            },
            "type": "scatterpolargl"
           }
          ],
          "scatterternary": [
           {
            "marker": {
             "colorbar": {
              "outlinewidth": 0,
              "ticks": ""
             }
            },
            "type": "scatterternary"
           }
          ],
          "surface": [
           {
            "colorbar": {
             "outlinewidth": 0,
             "ticks": ""
            },
            "colorscale": [
             [
              0,
              "#0d0887"
             ],
             [
              0.1111111111111111,
              "#46039f"
             ],
             [
              0.2222222222222222,
              "#7201a8"
             ],
             [
              0.3333333333333333,
              "#9c179e"
             ],
             [
              0.4444444444444444,
              "#bd3786"
             ],
             [
              0.5555555555555556,
              "#d8576b"
             ],
             [
              0.6666666666666666,
              "#ed7953"
             ],
             [
              0.7777777777777778,
              "#fb9f3a"
             ],
             [
              0.8888888888888888,
              "#fdca26"
             ],
             [
              1,
              "#f0f921"
             ]
            ],
            "type": "surface"
           }
          ],
          "table": [
           {
            "cells": {
             "fill": {
              "color": "#EBF0F8"
             },
             "line": {
              "color": "white"
             }
            },
            "header": {
             "fill": {
              "color": "#C8D4E3"
             },
             "line": {
              "color": "white"
             }
            },
            "type": "table"
           }
          ]
         },
         "layout": {
          "annotationdefaults": {
           "arrowcolor": "#2a3f5f",
           "arrowhead": 0,
           "arrowwidth": 1
          },
          "autotypenumbers": "strict",
          "coloraxis": {
           "colorbar": {
            "outlinewidth": 0,
            "ticks": ""
           }
          },
          "colorscale": {
           "diverging": [
            [
             0,
             "#8e0152"
            ],
            [
             0.1,
             "#c51b7d"
            ],
            [
             0.2,
             "#de77ae"
            ],
            [
             0.3,
             "#f1b6da"
            ],
            [
             0.4,
             "#fde0ef"
            ],
            [
             0.5,
             "#f7f7f7"
            ],
            [
             0.6,
             "#e6f5d0"
            ],
            [
             0.7,
             "#b8e186"
            ],
            [
             0.8,
             "#7fbc41"
            ],
            [
             0.9,
             "#4d9221"
            ],
            [
             1,
             "#276419"
            ]
           ],
           "sequential": [
            [
             0,
             "#0d0887"
            ],
            [
             0.1111111111111111,
             "#46039f"
            ],
            [
             0.2222222222222222,
             "#7201a8"
            ],
            [
             0.3333333333333333,
             "#9c179e"
            ],
            [
             0.4444444444444444,
             "#bd3786"
            ],
            [
             0.5555555555555556,
             "#d8576b"
            ],
            [
             0.6666666666666666,
             "#ed7953"
            ],
            [
             0.7777777777777778,
             "#fb9f3a"
            ],
            [
             0.8888888888888888,
             "#fdca26"
            ],
            [
             1,
             "#f0f921"
            ]
           ],
           "sequentialminus": [
            [
             0,
             "#0d0887"
            ],
            [
             0.1111111111111111,
             "#46039f"
            ],
            [
             0.2222222222222222,
             "#7201a8"
            ],
            [
             0.3333333333333333,
             "#9c179e"
            ],
            [
             0.4444444444444444,
             "#bd3786"
            ],
            [
             0.5555555555555556,
             "#d8576b"
            ],
            [
             0.6666666666666666,
             "#ed7953"
            ],
            [
             0.7777777777777778,
             "#fb9f3a"
            ],
            [
             0.8888888888888888,
             "#fdca26"
            ],
            [
             1,
             "#f0f921"
            ]
           ]
          },
          "colorway": [
           "#636efa",
           "#EF553B",
           "#00cc96",
           "#ab63fa",
           "#FFA15A",
           "#19d3f3",
           "#FF6692",
           "#B6E880",
           "#FF97FF",
           "#FECB52"
          ],
          "font": {
           "color": "#2a3f5f"
          },
          "geo": {
           "bgcolor": "white",
           "lakecolor": "white",
           "landcolor": "#E5ECF6",
           "showlakes": true,
           "showland": true,
           "subunitcolor": "white"
          },
          "hoverlabel": {
           "align": "left"
          },
          "hovermode": "closest",
          "mapbox": {
           "style": "light"
          },
          "paper_bgcolor": "white",
          "plot_bgcolor": "#E5ECF6",
          "polar": {
           "angularaxis": {
            "gridcolor": "white",
            "linecolor": "white",
            "ticks": ""
           },
           "bgcolor": "#E5ECF6",
           "radialaxis": {
            "gridcolor": "white",
            "linecolor": "white",
            "ticks": ""
           }
          },
          "scene": {
           "xaxis": {
            "backgroundcolor": "#E5ECF6",
            "gridcolor": "white",
            "gridwidth": 2,
            "linecolor": "white",
            "showbackground": true,
            "ticks": "",
            "zerolinecolor": "white"
           },
           "yaxis": {
            "backgroundcolor": "#E5ECF6",
            "gridcolor": "white",
            "gridwidth": 2,
            "linecolor": "white",
            "showbackground": true,
            "ticks": "",
            "zerolinecolor": "white"
           },
           "zaxis": {
            "backgroundcolor": "#E5ECF6",
            "gridcolor": "white",
            "gridwidth": 2,
            "linecolor": "white",
            "showbackground": true,
            "ticks": "",
            "zerolinecolor": "white"
           }
          },
          "shapedefaults": {
           "line": {
            "color": "#2a3f5f"
           }
          },
          "ternary": {
           "aaxis": {
            "gridcolor": "white",
            "linecolor": "white",
            "ticks": ""
           },
           "baxis": {
            "gridcolor": "white",
            "linecolor": "white",
            "ticks": ""
           },
           "bgcolor": "#E5ECF6",
           "caxis": {
            "gridcolor": "white",
            "linecolor": "white",
            "ticks": ""
           }
          },
          "title": {
           "x": 0.05
          },
          "xaxis": {
           "automargin": true,
           "gridcolor": "white",
           "linecolor": "white",
           "ticks": "",
           "title": {
            "standoff": 15
           },
           "zerolinecolor": "white",
           "zerolinewidth": 2
          },
          "yaxis": {
           "automargin": true,
           "gridcolor": "white",
           "linecolor": "white",
           "ticks": "",
           "title": {
            "standoff": 15
           },
           "zerolinecolor": "white",
           "zerolinewidth": 2
          }
         }
        },
        "title": {
         "text": "Топ-15 ключевых слов в описаниях вакансий"
        }
       }
      }
     },
     "metadata": {},
     "output_type": "display_data"
    }
   ],
   "source": [
    "trace0 = go.Pie(\n",
    "    name = \"\",\n",
    "    values = sk['num'],\n",
    "    labels = sk['skill'],\n",
    "    hovertemplate = \"<b>%{label}</b>\\n <br>Доля: %{percent} </br>Количество: %{value} упоминаний\"\n",
    ")\n",
    "layout= go.Layout(\n",
    "    title= 'Топ-15 ключевых слов в описаниях вакансий'\n",
    ")\n",
    "fig = go.Figure(data = [trace0], layout = layout)\n",
    "fig"
   ]
  },
  {
   "cell_type": "markdown",
   "metadata": {},
   "source": [
    "### Вопрос 3. Какие зарплаты на рынке? С каким опытом берут на работу?"
   ]
  },
  {
   "cell_type": "code",
   "execution_count": 27,
   "metadata": {},
   "outputs": [
    {
     "data": {
      "text/html": [
       "<div>\n",
       "<style scoped>\n",
       "    .dataframe tbody tr th:only-of-type {\n",
       "        vertical-align: middle;\n",
       "    }\n",
       "\n",
       "    .dataframe tbody tr th {\n",
       "        vertical-align: top;\n",
       "    }\n",
       "\n",
       "    .dataframe thead th {\n",
       "        text-align: right;\n",
       "    }\n",
       "</style>\n",
       "<table border=\"1\" class=\"dataframe\">\n",
       "  <thead>\n",
       "    <tr style=\"text-align: right;\">\n",
       "      <th></th>\n",
       "      <th>experience</th>\n",
       "      <th>count</th>\n",
       "    </tr>\n",
       "  </thead>\n",
       "  <tbody>\n",
       "    <tr>\n",
       "      <th>0</th>\n",
       "      <td>От 3 до 6 лет</td>\n",
       "      <td>199</td>\n",
       "    </tr>\n",
       "    <tr>\n",
       "      <th>1</th>\n",
       "      <td>От 1 года до 3 лет</td>\n",
       "      <td>140</td>\n",
       "    </tr>\n",
       "    <tr>\n",
       "      <th>2</th>\n",
       "      <td>Более 6 лет</td>\n",
       "      <td>12</td>\n",
       "    </tr>\n",
       "    <tr>\n",
       "      <th>3</th>\n",
       "      <td>Нет опыта</td>\n",
       "      <td>9</td>\n",
       "    </tr>\n",
       "  </tbody>\n",
       "</table>\n",
       "</div>"
      ],
      "text/plain": [
       "           experience  count\n",
       "0       От 3 до 6 лет    199\n",
       "1  От 1 года до 3 лет    140\n",
       "2         Более 6 лет     12\n",
       "3           Нет опыта      9"
      ]
     },
     "execution_count": 27,
     "metadata": {},
     "output_type": "execute_result"
    }
   ],
   "source": [
    "experience = df['experience'].value_counts()\n",
    "experience = experience.to_frame().reset_index()\n",
    "experience"
   ]
  },
  {
   "cell_type": "code",
   "execution_count": 43,
   "metadata": {},
   "outputs": [
    {
     "data": {
      "text/html": [
       "<div>\n",
       "<style scoped>\n",
       "    .dataframe tbody tr th:only-of-type {\n",
       "        vertical-align: middle;\n",
       "    }\n",
       "\n",
       "    .dataframe tbody tr th {\n",
       "        vertical-align: top;\n",
       "    }\n",
       "\n",
       "    .dataframe thead th {\n",
       "        text-align: right;\n",
       "    }\n",
       "</style>\n",
       "<table border=\"1\" class=\"dataframe\">\n",
       "  <thead>\n",
       "    <tr style=\"text-align: right;\">\n",
       "      <th></th>\n",
       "      <th>sal_from</th>\n",
       "      <th>sal_to</th>\n",
       "    </tr>\n",
       "  </thead>\n",
       "  <tbody>\n",
       "    <tr>\n",
       "      <th>count</th>\n",
       "      <td>360.00</td>\n",
       "      <td>360.00</td>\n",
       "    </tr>\n",
       "    <tr>\n",
       "      <th>mean</th>\n",
       "      <td>182,694.44</td>\n",
       "      <td>231,416.67</td>\n",
       "    </tr>\n",
       "    <tr>\n",
       "      <th>std</th>\n",
       "      <td>70,581.28</td>\n",
       "      <td>79,938.65</td>\n",
       "    </tr>\n",
       "    <tr>\n",
       "      <th>min</th>\n",
       "      <td>45,000.00</td>\n",
       "      <td>55,000.00</td>\n",
       "    </tr>\n",
       "    <tr>\n",
       "      <th>25%</th>\n",
       "      <td>120,000.00</td>\n",
       "      <td>170,000.00</td>\n",
       "    </tr>\n",
       "    <tr>\n",
       "      <th>50%</th>\n",
       "      <td>180,000.00</td>\n",
       "      <td>225,000.00</td>\n",
       "    </tr>\n",
       "    <tr>\n",
       "      <th>75%</th>\n",
       "      <td>242,500.00</td>\n",
       "      <td>290,000.00</td>\n",
       "    </tr>\n",
       "    <tr>\n",
       "      <th>max</th>\n",
       "      <td>350,000.00</td>\n",
       "      <td>570,000.00</td>\n",
       "    </tr>\n",
       "  </tbody>\n",
       "</table>\n",
       "</div>"
      ],
      "text/plain": [
       "         sal_from      sal_to\n",
       "count      360.00      360.00\n",
       "mean   182,694.44  231,416.67\n",
       "std     70,581.28   79,938.65\n",
       "min     45,000.00   55,000.00\n",
       "25%    120,000.00  170,000.00\n",
       "50%    180,000.00  225,000.00\n",
       "75%    242,500.00  290,000.00\n",
       "max    350,000.00  570,000.00"
      ]
     },
     "execution_count": 43,
     "metadata": {},
     "output_type": "execute_result"
    }
   ],
   "source": [
    "df.describe().map(\"{0:,.2f}\".format)"
   ]
  },
  {
   "cell_type": "code",
   "execution_count": 44,
   "metadata": {},
   "outputs": [],
   "source": [
    "# разобьем длинные строки навыков на строки покороче, чтобы они лучше отрисовывались\n",
    "\n",
    "import textwrap\n",
    "df.skills = df.skills.apply(lambda txt: '<br>'.join(textwrap.wrap(txt, width=50)))"
   ]
  },
  {
   "cell_type": "code",
   "execution_count": 46,
   "metadata": {},
   "outputs": [
    {
     "data": {
      "application/vnd.plotly.v1+json": {
       "config": {
        "plotlyServerURL": "https://plot.ly"
       },
       "data": [
        {
         "customdata": [
          [
           "Знания математики, алгоритмов, структур данных,<br>классического ML, CNN, YOLO, U-Net, ViT, Word2Vec,<br>fasttext, RNN, трансформеры, Python, Linux, SQL,<br>Git, PyTorch, TensorFlow"
          ],
          [
           "Знание основ SQL, Базовое знание Python, Знание<br>основных алгоритмов машинного обучения и ключевых<br>метрик (бинарная классификация/линейная регрессия)"
          ],
          [
           "Писать SQL-запросы (у нас Greenplum),<br>Анализировать данные на Python (с использованием<br>библиотек pandas, numpy, matplotlib и т.п.),<br>Считать p-value в AB-тестах"
          ],
          [
           "Обучение и развитие, Аналитика, Системное<br>мышление, Аналитическое мышление, Внутренние<br>коммуникации, Python, Математическая статистика,<br>MS SQL, Data Analysis, Базы данных, Git, NLP, ML,<br>Machine Learning, Машинное обучение, A/B тесты"
          ],
          [
           "Python, SQL, bash"
          ],
          [
           "Обучение и развитие, Аналитика, Системное<br>мышление, Аналитическое мышление, Внутренние<br>коммуникации, Python, Математическая статистика,<br>MS SQL, Data Analysis, Базы данных, Git, Bash,<br>NLP, ML, Machine Learning, Машинное обучение"
          ],
          [
           "ML"
          ],
          [
           "Linux, Git, Bash, Docker"
          ],
          [
           "SQL, Python, Базы данных, Скоринговая карта, База<br>данных: Oracle, Sas"
          ]
         ],
         "hovertemplate": "<b>%{hovertext}</b><br><br>Опыт=Нет опыта<br>Нижняя вилка зарплаты=%{x}<br>Верхняя вилка зарплаты=%{y}<br>Требуемые навыки=%{customdata[0]}<extra></extra>",
         "hovertext": [
          "ML-инженер",
          "Стажер ML-инженер",
          "Стажер Data analyst",
          "Стажёр - Дата аналитик",
          "Solution engineer (Junior)",
          "Стажёр - Data Scientist",
          "Lead Data Scientist",
          "Machine learning engineer, Middle/Senior",
          "Стажер - разработчик скоринговых карт"
         ],
         "legendgroup": "Нет опыта",
         "marker": {
          "color": "#636EFA",
          "size": 10,
          "symbol": "circle"
         },
         "mode": "markers",
         "name": "Нет опыта",
         "orientation": "v",
         "showlegend": true,
         "type": "scatter",
         "x": {
          "bdata": "8EkCAMBFBADY1gAA8EkCAKCGAQBADQMAIL8CACC/AgDgkwQA",
          "dtype": "i4"
         },
         "xaxis": "x",
         "y": {
          "bdata": "EJgCAOCTBADY1gAAIL8CAMDUAQCQ0AMAcIIDADDmAgBQpQUA",
          "dtype": "i4"
         },
         "yaxis": "y"
        },
        {
         "customdata": [
          [
           "Разработка технических заданий, Python, Сбор и<br>анализ информации, Midjorney, Внедрение<br>нейросетей, Нейросеть, ChatGPT, Работа в команде,<br>Обучение и развитие, Stabile Diffusion, Работа с<br>большим объемом информации"
          ],
          [
           "SQL, jvm, Hadoop"
          ],
          [
           "Python, Machine Learning, Математическое<br>моделирование, Spark, Data Science, Математическая<br>статистика"
          ],
          [
           "Python, Git, ООП, MySQL"
          ],
          [
           "Большой интерес к инновациям в области медиа и<br>технологий, Знание рынка существующих нейронных<br>сетей и вариантов их применения, Проактивная<br>позиция в вопросе применения нейронных сетей для<br>задач производственной компании, Желание<br>исследовать и креативить, Системное мышление,<br>внимательность, нацеленность на результат, умение<br>работать в команде, ответственность, Высшее<br>образование, Аналитический склад"
          ],
          [
           "Python, Pandas, NumPy, Transformers, openai,<br>LangChain, SQL, Понимание принципов классического<br>ML и погружение в современные нейросетевые<br>архитектуры: трансформеры, bert, gpt, Умение<br>использовать LLM - промптинг, файнтюнинг."
          ],
          [
           "Уверенное владение Python;   Уверенное владение<br>PyTorch;   Знание библиотек для машинного обучения<br>(Scikit-learn, Pandas, Matplotlib, Numpy, Scipy);<br>Опыт работы с нейросетями в CV от 2-х лет;<br>Знание алгоритмов ML, основных архитектур моделей<br>CV, и понимание критериев оценки их работы;<br>Умение делать рисерч, читать статьи на arxiv и<br>воплощать их идеи в рабочий код;   Понимание того,<br>как выстроить pipeline от сырых неразмеченных<br>данных до готовой модели;   Будет плюсом:   Опыт<br>работы над задачами в области медицины;   Опыт<br>работы с медицинскими изображениями;   Понимание и<br>опыт работы с DICOM и Nifti;   Опыт настройки<br>пайплайнов разметки данных;   Успешный опыт<br>участия в соревнованиях типа Kaggle;   Широкое и<br>глубокое понимание как вообще работает ML,<br>практический опыт в разных областях - CV, NLP,<br>Tabular, RL."
          ],
          [
           "Python, Математическая статистика, Английский<br>язык, sklearn, Статистический анализ"
          ],
          [
           "Pytorch, TensorFlow, Python"
          ],
          [
           "Python, TensorFlow, NLP, PyTorch, ML алгоритмы,<br>ML, CV, Работа с данными, предиктивные модели"
          ],
          [
           "знания Python на хорошем уровне, в том числе<br>популярные библиотеки (TensorFlow, PyTorch, Keras,<br>spaCy, Pandas, NumPy и другие); знания особенности<br>анализа и прогнозирования временных рядов; опыт<br>работы в DS не менее 3 лет, опыт на позиции<br>middle/senior DS не менее 2 лет; SQL (написание<br>запросов, понимание принципов организации БД);<br>навыки работы с количественной информацией, знания<br>теории вероятностей и математической статистики."
          ],
          [
           "Python, Linux, NLP, ML, TensorFlow, PyTorch"
          ],
          [
           "Уверенное владение Python;   Знание SQL/NoSQL-<br>запросов;   Знание методов и технологий Machine<br>Learning, Data Mining;   Технический английский.<br>Будет плюсом:   Опыт работы с инструментами<br>полного цикла работы ML моделей;   Опыт работы с<br>большими данными и системами распределенных<br>вычислений mapreduce Hadoop/Spark;   Работа с<br>задачами обработки естественного языка;   Работа с<br>Docker."
          ],
          [
           "Python, SQL, ClickHouse, Airflow"
          ],
          [
           "Python, Tensorflow, OpenCV, Keras, Numpy"
          ],
          [
           "Python, SQL, Linux"
          ],
          [
           "Отличное знание SQL: написания запросов, хранимых<br>процедур, уверенное владение агрегирующими и<br>оконными функциями, оптимизация запросов; Знание<br>основ программирования (Python), опыт работы с<br>экосистемой Hadoop (HDFS, Spark); Понимание<br>основных концепций DWH, реляционных БД;<br>Дополнительным преимуществом будет понимание<br>методов и подходов машинного обучения"
          ],
          [
           "Python, SQL, PostgreSQL, Анализ данных, ORACLE,<br>Git"
          ],
          [
           "Python, SQL, Airflow, Hadoop, Git"
          ],
          [
           "DL фреймворки, NLP"
          ],
          [
           "Python, Data science, IT, PySpark"
          ],
          [
           "ML, Python, Machine Learning"
          ],
          [
           "Python,  Linux, Jupyter notebook, git, SQL,<br>matplotlib, pandas, numpy"
          ],
          [
           "Хорошее знание языков SQL, Python; Опыт работы с<br>базами данных, с продуктами класса ETL, MPP;<br>Знание архитектуры распределенных хранилищ данных;<br>Опыт обогащения данных, интеграции смежных<br>источников данных Опыт работы с серверными<br>дистрибутивами ОС Linux – настройка сетевых<br>интерфейсов, межсетевого экрана, управления<br>разделами диска, мониторинга производительности,<br>управления файловой системой Продвинутый уровень<br>владения табличным процессором (MS Excel,<br>OpenOffice/LibreOffice Calc, и т.п.), текстовым<br>редактором (MS Word, OpenOffice/LibreOffice Writer<br>и т.п.)"
          ],
          [
           "TensorFlow, PyTorch, Keras, spaCy, Pandas, NumPy"
          ],
          [
           "Python, SQL, ML, A/B тесты"
          ],
          [
           "Python, ClickHouse, SQL, Airflow"
          ],
          [
           "SQL, Git, Python, Анализ данных, Моделирование"
          ],
          [
           "Python, ML, ML/DS, NLP, OCR, Data Science, LLM,<br>Prompt Engineering, AWS, ML Ops"
          ],
          [
           "Python, Big Data, Machine Learning, NLP, Data<br>Science, ML, SQL, Pandas"
          ],
          [
           "CV, mmdet, detectron2, Python, ML, Docret, Tryton"
          ],
          [
           "SQL, Python, Big Data, Machine Learning, Работа с<br>базами данных, Математическая статистика, Бизнес<br>статистика"
          ],
          [
           "Уверенное владение SQL (аналитические функции,<br>подзапросы, хранимые процедуры/функции,<br>оптимизация производительности) - Обязателено<br>иметь опыт работы с реляционными базами данных<br>(PostgreSQL) - Опыт использования экосистемы<br>Hadoop: HDFS, Spark, Hive - Умение оптимизировать<br>программный код в соответствии с особенностями<br>архитектур хранения данных - Продвинутые<br>аналитические навыки и вариативное видение решения<br>задач - Ориентация на достижение результата,<br>внимательность к деталям, коммуникабельность"
          ],
          [
           "Математическое моделирование, Анализ данных,<br>Статистический анализ, Валидация моделей,<br>Модельный риск, SQL"
          ],
          [
           "Оценка рисков, MS PowerPoint, Статистический<br>анализ, Управление рисками, Математическое<br>моделирование, PD, LGD, EAD, SQL, Портфельные<br>риски, кредитные риски"
          ],
          [
           "SQL, Аналитика, Сбор и анализ информации,<br>Аналитическое мышление, Системный анализ, Анализ<br>данных, SPL, Визуализация, Работа с базами данных,<br>Подготовка презентаций, Работа с большим объемом<br>информации, Базы данных, Страхование"
          ],
          [
           "Python, Pandas, SQL"
          ],
          [
           "ETL, MS SQL Server, ORACLE, ApacheAirflow"
          ],
          [
           "Python, PyTorch, NLP, NER, Machine Learning"
          ],
          [
           "NLP, Python, ML, PyTorch, REST, LLM"
          ],
          [
           "SQL на профессиональном уровне, включая<br>оптимизацию запросов Опыт интеграции систем,<br>загрузки и трансформации данных (ETL) Опыт работы<br>с качеством данных (очистка данных, процедуры Data<br>Quality) Знание принципов работы BI-систем,<br>построения аналитических панелей Профессиональный<br>пользователь Excel (сводные таблицы, формулы, ВПР<br>Базовые знания) принципов построения системной<br>архитектуры, архитектуры данных, работы с базами<br>данных Опыт настройки взаимодействия систем (REST<br>API, ODBC/JDBC) Желателен опыт работы с любым BI -<br>Qlik, Tableau, Power BI, NiFi и/или Airflow/DBT,<br>навыки работы с Python"
          ],
          [
           "sklearn, scipy, pytorch, Git, Docker"
          ],
          [
           "опыт работы с задачами машинного обучения/ опыт<br>статистической обработки данных от 1,5 лет;   опыт<br>разработки на Python, опыт code review;   опыт<br>работы с библиотеками для анализа данных: pandas,<br>matplotlib, numpy, sklearn;   уверенные навыки<br>использования Linux, Jupyter notebook, git, SQL;<br>знание основных моделей машинного обучения:<br>градиентный бустинг на основе деревьев решений,<br>логистическая регрессия с регуляризацией, метод<br>ближайших соседей"
          ],
          [
           "опыт работы с задачами машинного обучения/ опыт<br>статистической обработки данных от 1,5 лет;   опыт<br>разработки на Python, опыт code review;   опыт<br>работы с библиотеками для анализа данных: pandas,<br>matplotlib, numpy, sklearn;   уверенные навыки<br>использования Linux, Jupyter notebook, git, SQL;<br>знание основных моделей машинного обучения:<br>градиентный бустинг на основе деревьев решений,<br>логистическая регрессия с регуляризацией, метод<br>ближайших соседей"
          ],
          [
           "ETL, MS SQL Server, ORACLE, ApacheAirflow"
          ],
          [
           "опыт работы с задачами машинного обучения/ опыт<br>статистической обработки данных от 1,5 лет;   опыт<br>разработки на Python, опыт code review;   опыт<br>работы с библиотеками для анализа данных: pandas,<br>matplotlib, numpy, sklearn;   уверенные навыки<br>использования Linux, Jupyter notebook, git, SQL;<br>знание основных моделей машинного обучения:<br>градиентный бустинг на основе деревьев решений,<br>логистическая регрессия с регуляризацией, метод<br>ближайших соседей"
          ],
          [
           "Работа с одним из фреймворков PyTorch/TensorFlow;<br>Знание основных подходов для предобработки и<br>векторизации текста; Наличие опыта решения задач<br>NLP для текста (Text Classification, NER, Text<br>Summarization); Знакомство и понимание основных<br>принципов современных SOTA моделей NLP; Владение:<br>git, docker, sql и одним из фреймворков для<br>реализации api.  Будет плюсом:  Участие в<br>соревнованиях по ML/DL; Практический опыт до<br>обучения и работы с open source LLM; Публикации по<br>NLP; Собственные проекты по NLP"
          ],
          [
           "Математическое моделирование, Анализ данных,<br>Статистический анализ, Валидация моделей,<br>Модельный риск, SQL, Python"
          ],
          [
           "Коммерция"
          ],
          [
           "Знание классического ML, DL; Опыт работы с Python,<br>PyTorch, Pandas, Numpy; Навыки работы с большими<br>объемами данных; Опыт разработки ML решений<br>полного цикла."
          ],
          [
           "Python, SQL, Анализ данных, Pandas, ML"
          ],
          [
           "Python, Spark, Oracle, Airflow, Superset, Docker"
          ],
          [
           "Python, SQL, Pandas, sklearn, PyTorch, PySpark"
          ],
          [
           "Python, PySpark, ML, NLP, A/B тестирование"
          ],
          [
           "Python, Machine Learning, Анализ данных,<br>Математическая статистика, Pandas, Numpy, Hadoop"
          ],
          [
           "NLP, LLM, Python, PyTorch, Seq2Seq, BERT, T5"
          ],
          [
           "Python, SQL, Pandas, Git, OCR, CV"
          ],
          [
           "Знание SQL на продвинутом уровне (аналитические<br>функции, подзапросы, хранимые процедуры,<br>оптимизация запросов); Отличное знание<br>Python/Scala и библиотеки pySpark; Знание основных<br>понятий и концепций Data Warehousing и Big Data;<br>Опыт разработки ETL-процессов; Опыт работы с<br>большими объемами данных, построения хранилищ и<br>витрин данных; Опыт работы со стеком технологий<br>Big Data (Hadoop, Spark, Hive/Impala, Kafka)"
          ],
          [
           "Python, numpy, pytorch, hadoop, PySpark, SQL"
          ],
          [
           "PyTorch, ML, Machine Learning, Линейная алгебра,<br>Python, базовая статистика, Написание научных<br>статей"
          ],
          [
           "Python, SQL"
          ],
          [
           "Python, NLP, machine learning, Linux, Docker, Data<br>science, Deep learning, MLFlow, Извлечение<br>сущностей, Поисковые алгоритмы, Git"
          ],
          [
           "MS SQL, PostgreSQL, API, Базы данных, Техническая<br>поддержка"
          ],
          [
           "Python, Numpy, pandas, sklearn, SQL, ML"
          ],
          [
           "Python, SQL, ML, Science, RecSys, PostgreSQL,<br>Анализ данных, Machine Learning, Data Science"
          ],
          [
           "Python, SQL, API"
          ],
          [
           "Python, SQL, API"
          ],
          [
           "Анализ данных, Умение работать в коллективе,<br>Python, SQL, MS Excel, Linux"
          ],
          [
           "Уверенное владение Python; Понимание принципа<br>работы и построения базовых алгоритмов ML\\DL<br>(классический ML, CNN, RNN, Transformer, RL,<br>RecSys, LLM)"
          ],
          [
           "NCL, NPV, RBP, Python, SQL"
          ],
          [
           "Python, Математическое моделирование,<br>Математическая статистика, SQL, Machine Learning,<br>Машинное обучение, Data Mining"
          ],
          [
           "Уверенное владение R или Python<br>(pandas/numpy/sklearn)"
          ],
          [
           "SQL, Python"
          ],
          [
           "Python, ClickHouse, SQL, Airflow"
          ],
          [
           "знание математической статистики; Python (pandas,<br>sklearn, xgboost, lightgbm, matplotlib etc.);<br>Отличное знание SQL; Владение инструментами из<br>стека Hadoop (Hive, Spark); Опыт работы с Git,<br>Confluence"
          ],
          [
           "Hadoop, SQL"
          ],
          [
           "Python, SQL, Big Data, Machine Learning, ML"
          ],
          [
           "DAMA DMBOK"
          ],
          [
           "PostgreSQL, ClickHouse, PowerBI, Python, A/B тесты"
          ],
          [
           "Python, SQL"
          ],
          [
           "Spark, Big Data, Hadoop, Базы данных, Python"
          ],
          [
           "Python, PyTorch, Transformers, NLP, Kubernetes,<br>Kafka, Docker, LLM"
          ],
          [
           "Kaldi, PyTorch, TensorFlow, librosa, ffmpeg, soxi"
          ],
          [
           "Работа с базами данных, PostgreSQL, Postgre,<br>Kafka, Английский язык, Базы данных, Docker,<br>Linux, ClickHouse, RabbitMQ, Spark, Airflow, MQ,<br>Выгрузка данных (ETL), ATL, Azure, AWS, Google<br>Cloud"
          ],
          [
           "Python, Machine Learning, SQL, Английский язык,<br>Анализ данных, Linux, Математическая статистика,<br>Статистический анализ, Статистика,<br>Прогнозирование, Машинное обучение, Data Science,<br>Аналитические исследования"
          ],
          [
           "Python, Data Science, ML-модели, Machine Learning,<br>SQL, Docker, Kubernetes, ClickHouse"
          ],
          [
           "SQL, Python, Математическая статистика, Анализ<br>данных"
          ],
          [
           "Python, SAS, SQL"
          ],
          [
           "Pytorch, OpenCV, HuggingFace, Torchvision"
          ],
          [
           "MicroKernel, UML, ArchiMate, EDA, SOA, DDD, MSA,<br>GoF, GRASP, TOGAF, Kubernetes, OpenShift,<br>RabbitMQ, Apache, Kafka, PostgreSQL, Redis, Hadoop"
          ],
          [
           "Big Data, ETL, MS SQL, Базы данных, Анализ данных"
          ],
          [
           "Python, NLP, ML, Pytorch, Cuda, Neural Network,<br>Speech Recognition"
          ],
          [
           "Scala / Python Hadoop (hdfs, hive) Apache Spark<br>Airflow"
          ],
          [
           "C++, Linux, Математическое программирование, ML,<br>нейросети, облако точек, система управления, ROS2,<br>Machine Learning"
          ],
          [
           "Python, PyTorch, TensorFlow"
          ],
          [
           "НСИ, MDM, ТОиР, 1С"
          ],
          [
           "LLM, NLP, Python"
          ],
          [
           "Python, SQL, API"
          ],
          [
           "Python, Big Data, Machine Learning, ML"
          ],
          [
           "Data Engineer, Big Data, PostgreSQL, Python, ETL,<br>Data lake, Хранилище данных, витрины данных, NiFi"
          ],
          [
           "Кластерный анализ, SQL, Анализ данных, Python, MS<br>SQL, Data Analysis, Базы данных, Аналитика,<br>Математическая статистика, Аналитическое мышление"
          ],
          [
           "Python, Machine Learning, Pandas, SQL, Numpy, Big<br>Data, NLP, Sas"
          ],
          [
           "NumPy, Pandas, OpenCV, Sklearn, Matplotlib"
          ],
          [
           "SQL, MS SQL, Big Data, Python, Spark, Hadoop,<br>Machine Learning, Математическая статистика,<br>Аналитические исследования, Работа с базами<br>данных, Статистический анализ, Аналитическое<br>мышление, Математический анализ"
          ],
          [
           "Разработки на Python3 от 1 года; Глубокие знания и<br>опыт работы с PyTorch; Опыт работы с медицинскими<br>изображениями и медицинскими заключениями; Знание<br>статистики, алгоритмов машинного обучения и теории<br>нейронных сетей; Опыт работы с Docker и Kubernetes"
          ],
          [
           "NumPy, Pandas, OpenCV, Sklearn, Matplotlib"
          ],
          [
           "SQL, Linux, Работа с базами данных"
          ],
          [
           "Python, Hadoop, Spark, ML, DL"
          ],
          [
           "NumPy, Pandas, OpenCV, Sklearn, Matplotlib, CI/CD"
          ],
          [
           "Понимание типовой архитектуры хранилищ и принципов<br>работы реляционных баз данных; Уверенное владение<br>любым из диалектов SQL: Microsoft, Postgre,<br>Oracle, другие; Умение писать поддерживаемый и<br>масштабируемый код, опыт работы с Python"
          ],
          [
           "MS SQL, PostgreSQL, API, Базы данных, Техническая<br>поддержка"
          ],
          [
           "Python, SQL"
          ],
          [
           "Python, Java, Scala, SQL"
          ],
          [
           "Python, Spark, Big Data, Dagster, Kafka, Airflow,<br>C++, геоданные, SQL, ETL"
          ],
          [
           "Python, OpenCV"
          ],
          [
           "ClickHouse, Pythоn, SQL, AirFlow, Spark, Apache<br>Kafka, Yandex Cloud, Big Data, Kubernetes,<br>FastAPI\\Flask API"
          ],
          [
           "OpenCV, PyTorch, Gstreamer, Nvidia Triton Server<br>(TRT), OpenVINO, С++"
          ],
          [
           "NumPy, Pandas, OpenCV, Sklearn, Matplotlib, git"
          ],
          [
           "Опыт работы с DVC, MLFlow, Airflow, Docker;<br>Уверенное знание PostgreSQL, Redis, Kafka,<br>ClickHouse; Опыт разработки REST-сервисов (FastApi<br>(Flask, Django) + aiohttp); Умение работать с git"
          ],
          [
           "Python, SQL, ML"
          ],
          [
           "Python, ML, Data Science, Анализ данных"
          ],
          [
           "Python, SQL, ML, Science, RecSys, PostgreSQL,<br>Анализ данных, Machine Learning, Data Science"
          ],
          [
           "Python"
          ],
          [
           "ClickHouse, Pythоn, SQL, AirFlow, Spark, Apache<br>Kafka, Yandex Cloud, Big Data, Kubernetes,<br>FastAPI\\Flask API, Java"
          ],
          [
           "Python, ООП, ML"
          ],
          [
           "SQL, ETL, Power BI, Yandex Cloud Platform"
          ],
          [
           "SQL, Data Analysis"
          ],
          [
           "Apache Kafka, SQL"
          ],
          [
           "MS SQL, PostgreSQL, API, Базы данных, Техническая<br>поддержка"
          ],
          [
           "SQL, Python, ML"
          ],
          [
           "Python, SQL, Математическое моделирование,<br>Математический анализ, R"
          ],
          [
           "Ценообразование, Power BI, SQL, Кластеризация,<br>регрессия, классификация, методы проверки гипотез"
          ],
          [
           "SQL, IBM InfoSphere Guardium"
          ],
          [
           "Linux, PowerShell, Transact-SQL, Python, С#, SQL"
          ],
          [
           "Python, Java, Rust"
          ],
          [
           "SQL, Математическая статистика, Математическое<br>моделирование, Работа с базами данных,<br>Математический анализ, Бизнес-анализ,<br>Статистический анализ, Аналитическое мышление, MS<br>SQL, Финансовый анализ"
          ],
          [
           "Python, machine learning, SQL, Базы данных"
          ],
          [
           "Уверенное знание Python (3.8+) понимание, как<br>устроены основные ML и DL алгоритмы (от решающих<br>деревьев до трансформеров) хорошее владение<br>pytorch, torchaudio, docker  опыт работы в ML от<br>1,5 лет     опыт работать с аудио данными   Будет<br>плюсом:  опыт создания сервисов умение в MLOps"
          ],
          [
           "Python, SQL, PyTorch, Математическая статистика,<br>Keras"
          ],
          [
           "SQL, Sas, Базы данных, Скоринговая карта, База<br>данных: Oracle, Python"
          ]
         ],
         "hovertemplate": "<b>%{hovertext}</b><br><br>Опыт=От 1 года до 3 лет<br>Нижняя вилка зарплаты=%{x}<br>Верхняя вилка зарплаты=%{y}<br>Требуемые навыки=%{customdata[0]}<extra></extra>",
         "hovertext": [
          "Начинающий специалист по работе с нейросетям",
          "Junior Data Engineer",
          "Data Scientist",
          "Python Developer (Junior)",
          "Специалист по работе с нейронными сетями\\Promt инженер",
          "Junior / Middle ML Engineer (Data Scientist)",
          "ML engineer",
          "Data Scientist (Junior/middle)",
          "Computer Vision Engineer 2/2 (удаленно)",
          "Data Scientist (CV)",
          "Data Scientist",
          "ML-разработчик/Data Scientist",
          "Data Scientist",
          "Data Engineer",
          "Computer vision Data Engineer",
          "Data Analyst",
          "Junior Data Analyst",
          "Data Scientist",
          "Data scientist ML",
          "Data Scientist",
          "Математик-разработчик (Data Scientist), Маркетплейс, Цены и анализ конкурентов",
          "Data Scientist",
          "Дата аналитик (Data Scientist)",
          "Инженер данных",
          "Дата Сайнтист",
          "Data Scientist",
          "Data Scientist",
          "Эксперт по моделированию и анализу данных / Data Scientist",
          "Prompt Engineer в Startup-студию (Remote)",
          "Data Scientist",
          "CV / ML разработчик",
          "Data-Scientist (международное направление)",
          "Data Engineer",
          "Data Scientist Управления модельных рисков и валидации",
          "Data Scientist (сопровождение процесса разработки и использования моделей)",
          "Data Science",
          "Data Scientist",
          "Data Engineer (ETL)",
          "Cпециалист-исследователь в области обработки аудиосигналов и текста",
          "Data Scientist (LLM)",
          "Data engineer",
          "Data Scientist",
          "Дата аналитик (Data Scientist)",
          "Дата аналитик (Data Scientist)",
          "Data Engineer (ETL)",
          "Дата аналитик (Data Scientist)",
          "Data scientist NLP",
          "Data Scientist (модельные риски и валидация)",
          "Дата аналитик (Отдел анализа конкурентов)",
          "ML Engineer",
          "Data Scientist",
          "Data scientist (Персонализация)",
          "Middle Data Scientist (рекомендательные системы, классификация)",
          "Senior Data scientist",
          "Data Scientist / Machine Learning Engineer в команду рекомендаций и машинного обучения",
          "Data Scientist",
          "Data Scientist",
          "Data Engineer",
          "Data Scientist",
          "Research Engineer DL/ML",
          "Data Scientist (Моделирование рисков корпоративного кредитования)",
          "Data Scientist / ML engineer",
          "Специалист в группу технического сопровождения",
          "Data Scientist (middle)",
          "ML engineer",
          "Data Scientist (middle)",
          "Data Scientist (middle)",
          "Аналитик данных",
          "Data Scientist",
          "Data Science",
          "Эксперт Группа аналитики и моделирования (Data scientist)",
          "Middle Python Developer",
          "Data инженер",
          "Analytics Engineer в команду Experimentation platform",
          "Data Scientist (Middle)",
          "Data Engineer",
          "ML-инженер",
          "Менеджер по управлению данными",
          "Data analyst",
          "Data Scientist",
          "Data Engineer",
          "Аналитик данных NLP",
          "Data Scientist",
          "Data Engineer (Middle/ Middle +)",
          "Data Scientist (Middle)",
          "Data Scientist Микротранзит",
          "Эксперт направления анализа данных и моделирования",
          "Старший аналитик по валидации моделей рыночного риска",
          "Data Scientist (CV+NLP)",
          "Architect AI (Remote) / Архитектор ИИ (Solution)",
          "Data инженер",
          "Программист Data Science (распознавание речи)",
          "Data Engineer",
          "ML разработчик (отдел технического зрения)",
          "ML инженер / Data scientist",
          "Специалист по ведению данных ТОиР",
          "Machine Learning Engineer в Knowledge Base capitalization",
          "Data Scientist (middle)",
          "Старший Data Scientist в команду поискового ранжирования",
          "Data Engineer",
          "Data scientist",
          "Data Scientist (Middle)",
          "Middle Computer Vision Engineer",
          "Senior Data Scientist",
          "Reinforcement learning in multi-modal medical imaging specialist (Junior)",
          "Middle Computer Vision Engineer",
          "Администратор баз данных",
          "Middle \\ Senior Data scientist (команды CRM и модели оптимизации)",
          "Middle Computer Vision Engineer",
          "Data Engineer (PostgreSQL, Greenplum)",
          "Специалист в группу технического сопровождения",
          "Data Engineer (middle)",
          "Data Engineer",
          "Data Engineer Управления разработки продукта программного обеспечения автономного вождения",
          "Computer Vision (CV, Python, C++) инженер",
          "Data engineer",
          "Computer Vision Engineer C/C++",
          "Middle Computer Vision Engineer",
          "Machine Learning / Machine Learning Ops Engineer",
          "Data Analytics Team Lead",
          "Data Scientist (модели PD/LGD/EAD)",
          "ML engineer",
          "Руководитель управления моделирования по автострахованию",
          "Senior Data Engineer",
          "Data scientist Middle\\Senior (кредитный скоринг)",
          "Data Scientist (middle)",
          "Data Analyst в команду DS",
          "Data Engineer",
          "Специалист в группу технического сопровождения",
          "Эксперт по разработке моделей (модели PD/LGD/EAD)",
          "Middle \\ Senior Data Scientist в команду моделирования розничного бизнеса",
          "Эксперт цифровой продуктовой витрины",
          "Администратор данных",
          "Data Engineer",
          "Data Engineer (Middle)",
          "Бизнес-аналитик",
          "Ведущий специалист DATA SCIENCE",
          "Middle MLE/DS c NLP направленностью",
          "Data Scientist (CoreML + RecSys)",
          "Ведущий специалист по разработке скоринговых карт"
         ],
         "legendgroup": "От 1 года до 3 лет",
         "marker": {
          "color": "#EF553B",
          "size": 10,
          "symbol": "circle"
         },
         "mode": "markers",
         "name": "От 1 года до 3 лет",
         "orientation": "v",
         "showlegend": true,
         "type": "scatter",
         "x": {
          "bdata": "2NYAAPBJAgAgvwIAYOoAAMBFBAAQmAIAQA0DACC/AgBADQMA0PsBAHARAQDgkwQAQA0DAEANAwDA1AEAIL8CACC/AgCwHgQAcBEBAFA0AwDA1AEA4JMEANjWAAAgvwIAIL8CAPBJAgBADQMA4JMEAEANAwBADQMA8EkCAPBJAgDQ+wEAsB4EAND7AQCwHgQAsB4EAPBJAgDQ+wEAQA0DAKCGAQDY1gAA0PsBAPBJAgDARQQAoIYBAKCGAQAgvwIA8EkCAPBJAgCghgEAwEUEALAeBABQNAMAoIYBACC/AgDARQQAoIYBAND7AQAgvwIAsB4EAFA0AwDQ+wEAwNQBAFA0AwBADQMA4JMEAOCTBACghgEAsB4EAEANAwDgkwQAwNQBACC/AgAgvwIAoIYBAPBJAgAgvwIAIL8CAMDUAQDgkwQAIL8CAEANAwDA1AEAIL8CAMDUAQCwHgQAUDQDAKCGAQDwSQIAwEUEAPBJAgDgkwQAIL8CAFA0AwCAOAEAwNQBALAeBABADQMA8EkCAMDUAQCghgEAIL8CAOCTBADQ+wEAoIYBAMDUAQDQ+wEA4JMEAPBJAgDgkwQAUDQDAMBFBADA1AEAQA0DAND7AQBQNAMAwNQBALAeBAAgvwIAoIYBAND7AQAgvwIAIL8CAPBJAgDQ+wEAsB4EAKCGAQDIrwAAUDQDALAeBAAgvwIAUDQDAKCGAQCghgEAwNQBAPBJAgDwSQIAoIYBANjWAAA=",
          "dtype": "i4"
         },
         "xaxis": "x",
         "y": {
          "bdata": "YOoAAEANAwBADQMAsK0BABAJBQAgvwIAkNADAEANAwCQ0AMA4CICAKCGAQAwVwUAkNADAGBbAwAQmAIAcIIDAHCCAwDgkwQAoIYBAICpAwAQmAIAAOIEAJBfAQBwggMAMOYCAJDQAwCQ0AMA8LoEAIAaBgCQ0AMAQA0DACC/AgAAcQIAAOIEAPBJAgAgMAUA4JMEAEANAwAAcQIA4JMEAPBJAgAomgEAQA0DABCYAgAQCQUA0PsBABCYAgDARQQAAHECAEANAwCghgEA0GwEAFClBQCAqQMAQA0DAHCCAwAQCQUA8EkCAABxAgBQNAMAUKUFAICpAwBwggMAMOYCAMBFBABwggMAUKUFAADiBABADQMA4JMEAHCCAwAA4gQA0PsBAFA0AwBwggMA8EkCAGBbAwBwggMAUDQDADDmAgAwVwUAUDQDAJDQAwDQ+wEAkNADAGBbAwBQpQUAwEUEAND7AQBADQMAYMwFACC/AgDwugQAkNADAGBbAwCghgEA8EkCAFClBQCwHgQAAHECAPBJAgDQ+wEAUDQDADBXBQBwggMAEJgCABCYAgBADQMA8LoEAJDQAwAwVwUAgKkDABAJBQAQmAIAkNADACC/AgBwggMA0PsBAADiBABADQMAsK0BAPBJAgBwggMAwEUEAEANAwBADQMA0GwEAMDUAQBoNgIAcIIDAOCTBABQNAMAwEUEALCtAQDgIgIAYFsDAEANAwDgkwQAsK0BACiaAQA=",
          "dtype": "i4"
         },
         "yaxis": "y"
        },
        {
         "customdata": [
          [
           "Python, NLP, Artificial intelligence,<br>Искусственный интеллект, Machine Learning,<br>Машинное обучение, Обработка естественного языка,<br>Data science, Language Processing, Natural, ООП"
          ],
          [
           "Machine Learning, Python, numpy, pandas,<br>matplotlib, seaborn, Обучение нейронных сетей,<br>TensorFlow, CNTK, Keras, PyTorch, Caffe, Nvidia<br>TLT, Linux"
          ],
          [
           "Опыт в компьютерном зрении от 3 лет, Уверенные<br>знания машинного обучения и особенно deep<br>learning, Python и его dl-стэк - pytorch,<br>tensorflow (huggingface - плюс), Знать состояние<br>генеративных моделей в CV и опыт работы с<br>диффузионными моделями."
          ],
          [
           "Python, SQL, Обучение и развитие, Машинное<br>обучение, Data Science"
          ],
          [
           "Pytorch, TensorFlow, OpenVino, OpenCV, Pandas,<br>NumPy, scipy, GPU, S3, LLM"
          ],
          [
           "SQL, Сбор и анализ информации, Работа с базами<br>данных"
          ],
          [
           "знание Data Science процессов; знание и понимание<br>подходов обучения с учителем и обучения без<br>учителя; умение проводить Data Science<br>эксперименты от формулирования гипотезы до<br>анализа; результатов и описания выводов; умение<br>работать с большими объемами данных; умение<br>визуализировать данные в matplotlib, seaborn и<br>plotly; умение демонстрировать результаты работы<br>руководству и другим коллегам; высшее образование<br>(математика, физика); умение и готовность<br>самостоятельно собирать отчеты из разных систем;<br>опыт работы в Data Science от 3х лет; уверенные<br>теоретические знания ML; уверенное владение<br>python; SQL средний уровень; умение работать как в<br>команде, так и самостоятельно."
          ],
          [
           "Хорошие навыки разработки на Python"
          ],
          [
           "Глубокие знания Python, эмбеддингов, pytests Опыт<br>обучения нейронных сетей Понимание архитектуры<br>современных языковых моделей (langchain, RAG)"
          ],
          [
           "Python, Pyspark, Финансы, IT"
          ],
          [
           "Python"
          ],
          [
           "NLP, Computer Vision, Python, LLM"
          ],
          [
           "Python, LLM, Speech"
          ],
          [
           "Управление командой, SQL, Python, Моделирование,<br>Data science"
          ],
          [
           "ArcGIS QGIS Git/Gitlab Python пространственные<br>базы данных Agile"
          ],
          [
           "Power BI, СУБД, SQL, DataLens, Базы данных,<br>Аналитическое мышление, Сбор и анализ информации,<br>Анализ данных, Python"
          ],
          [
           "Python, Machine Learning, RecSys, C++, ML, Data<br>Science"
          ],
          [
           "Python, SQL, Big Data, Математический анализ"
          ],
          [
           "Python, Hadoop, Big Data, Machine Learning"
          ],
          [
           "Экспертиза в области искусственного интеллекта и<br>машинного обучения: глубокие знания и понимание<br>текущих технологий ИИ, машинного обучения,<br>нейронных сетей, алгоритмов и связанных с ними<br>инноваций Управленческие и лидерские навыки:<br>способность строить и вести команду специалистов,<br>создавать продуктивную рабочую среду, и<br>мотивировать сотрудников"
          ],
          [
           "MS SQL, PostgreSQL, Java, Базы данных, Hadoop,<br>MySQL, REST, SCALA, API, REST API, SOAP, Python,<br>HDFS, S3, Spark, Airflow, dbt, Data Lakehouse"
          ],
          [
           "Spark, Hive, MLFlow, ML, AirFlow, MLOps,<br>Forecasting"
          ],
          [
           "уверенное знание Python (библиотеки: NumPy,<br>Pandas, Scikit-learn, Keras, PyTorch); знания в<br>области машинного обучения и статистики, а также<br>понимание основных алгоритмов ML, используемых в<br>NLP; понимание основных принципов обработки<br>естественного языка, включая токенизацию,<br>лемматизацию, стемминг, извлечение сущностей и<br>классификацию текста; знание основных алгоритмов<br>обучения моделей (линейная регрессия,<br>логистическая регрессия, деревья решений, SVM и<br>Naive Bayes); понимание основных аспектов<br>предобработки текстовых данных: очистка данных,<br>удаление стоп-слов, приведение к нижнему регистру,<br>устранение шума, нормализация текста; знание<br>основных методов оценки моделей, таких как кросс-<br>валидация, ROC-кривые, Precision-Recall кривые,<br>confusion matrix и прочее; опыт обучения моделей<br>глубоких нейронных сетей, понимание архитектур и<br>основных принципов."
          ],
          [
           "Big Data, Английский язык, Data Mining,<br>Организаторские навыки, Обучение и развитие,<br>Прогнозирование, Работа с большим объемом<br>информации, Работа с базами данных, Аналитические<br>исследования, Data Analysis, Аналитическое<br>мышление"
          ],
          [
           "Успешный опыт построения крупных nlp-based<br>продуктов   Опыт работы с трансформерами<br>Технологический стек: python + pytorch, spark,<br>docker, git, linux"
          ],
          [
           "Python, SQL, Математическая статистика, Big Data,<br>ML"
          ],
          [
           "SQL, Python, ETL, ELT, СУБД, Airflow, dbt,<br>ClickHouse, GreenPlum, Spark, Kafka, Kubernetes"
          ],
          [
           "Python, bash, git, SQL, Hadoop"
          ],
          [
           "Triton, Python, PyTorch, Git"
          ],
          [
           "ML, Python, CatBoost, STT, ASR, LabelStudio"
          ],
          [
           "IT, Разработка поисковых технологий, data science,<br>Python, Deep Learning, Алгоритмы и структуры<br>данных"
          ],
          [
           "SQL, Python, Pandas, ML, machine learning,<br>обучение модели, машинное обучение, NLP, CV,<br>Computer Vision, нейронная сеть"
          ],
          [
           "Управление командой, Анализ данных, A/B тесты,<br>Data scientist"
          ],
          [
           "MS SQL, PostgreSQL, Java, Базы данных, Hadoop,<br>MySQL, REST, SCALA, API, REST API, SOAP, Python,<br>HDFS, S3, Spark, Airflow, dbt, Data Lakehouse"
          ],
          [
           "Основной язык: Python, C++. Основной ML фрэймворк:<br>Pytorch. Опыт переноса ML пайплайна с Python на<br>C++. Системы разметки данных для CV: CVAT (или<br>другая подобная). Библиотеки обработки изображений<br>и тензоров: OpenCV, numpy, pillow. Запуск ML<br>модели в продакшн под CPU: Onnx, OnnxRuntime,<br>OpenVino. Общие инструменты разработки: Git,<br>Docker"
          ],
          [
           "Python, Machine Learning, SQL, A/B тесты, Docker,<br>Git"
          ],
          [
           "Уметь выкладывать свой код в кластер кубернетес<br>Python - хороший уровень кода Docker - уметь<br>заворачивать решения в контейнер Pytorch - для<br>нейронных сетей FastAPI - для создания REST<br>сервисов по взаимодействию с моделью OpenCV Linux<br>Ubuntu Triton inference server + onnx для<br>инференса"
          ],
          [
           "Python, Spark, Dagster, S3, Kafka, Kubernetes"
          ],
          [
           "Python, SQL, Английский язык, ML, Машинное<br>обучение, NLP, GPT"
          ],
          [
           "Python, SQL, Pandas, Аналитическое мышление, Базы<br>данных, Machine Learning, Аналитические<br>исследования, Машинное обучение, ML, BigQuery,<br>Greenplum, Clickhouse, Spark"
          ],
          [
           "RecSys, рекомендательная система, ml, Python"
          ],
          [
           "Python, Machine Learning, Linux"
          ],
          [
           "Опыт Python разработчика (pytorch, opencv), знание<br>ООП, git, numpy, pandas, sklearn"
          ],
          [
           "Python, SQL, Анализ данных, Teamleading"
          ],
          [
           "Python, SQL, Apache Airflow, СlickHouse"
          ],
          [
           "Pytorch, Tensorflow"
          ],
          [
           "GreenPlum, ClickHouse, AirFlow, Python, Debezium,<br>Yandex Cloud, DBT, SQL"
          ],
          [
           "Python, Big Data, Математическая статистика,<br>Математический анализ, Аналитические исследования,<br>Математическое моделирование, Machine Learning"
          ],
          [
           "Базы данных, Моделирование бизнес процессов,<br>Моделирование процессов, Системное мышление,<br>Проектная деятельность, SQL запросы, Cистемы<br>управления базами данных, Внимательность к<br>деталям, способность работать с большими массивами<br>информации, модели данных"
          ],
          [
           "Уверенное владение R или Python<br>(pandas/numpy/sklearn)"
          ],
          [
           "SQL, Python, Аналитическое мышление,<br>Математический анализ, Математическая статистика,<br>Работа с большим объемом информации,<br>Математическое моделирование"
          ],
          [
           "Уверенное владение Python. Опыт работы с<br>библиотеками и фреймворками Data Science, такими<br>как pandas, sklearn, scipy, matplotlib, catboost и<br>др. Знание основ статистического анализа и его<br>применение. Опыт проведения A/B тестирования.<br>Понимание классических методов и алгоритмов<br>машинного обучения, с опытом их применения на<br>практике. Базовые навыки SQL запросов. Опыт работы<br>с Git и Docker.  Будет плюсом:  Опыт работы с<br>MLflow / KubeFlow / ClearML. Знание GitLab CI/CD.<br>Опыт работы с Airflow / Argo"
          ],
          [
           "Вы знаете основные Machine Learning алгоритмы,<br>умеете использовать numpy, pandas, scipy,<br>matplotlib и готовы работать с ключевыми ML<br>библиотеками (XGBoost, Scikit-learn, LightGBM);<br>Обладаете уверенным знанием Python и опытом<br>разработки API (Flask Django, FastAPI);<br>Пользуетесь инструментами командной строки в<br>linux-системах; Есть опыт работы с opensource<br>MLOps решениями (AirFlow, MLFlow, Seldon Core или<br>их аналогами); Используете Docker в повседневной<br>работе и применяете DevOps практики (git, CI/CD);<br>Понимаете, в чем отличие Kafka от RabbitMQ;<br>Уверенно пользуетесь SQL и обладаете опытом работы<br>с реляционными СУБД (например, PostgreSQL)"
          ],
          [
           "Желателен опыт в решении ML-задач из банковского<br>сектора (скоринги, кредитные риски и пр.) Опыт<br>лидирования стримов с технической точки зрения,<br>управления командой DS и ML-специалистов; Опыт и<br>решенные практические задачи с использованием<br>методов ML и DL (Python) Опыт работы с системами<br>больших данных (Spark), Понимание общей культуры<br>современной разработки: Git, работа по спринтам в<br>SAFe фреймворке"
          ],
          [
           "Python, PySpark, Big Data, Machine Learning"
          ],
          [
           "Владение Python; Отличное знание PyTorch;  Опыт в<br>решении задач object detection/ocr;   Знание<br>любого фреймворка (Fast api, Flask , Django ,<br>Black sheep и т.п)"
          ],
          [
           "высокий уровень знания Python; умение<br>декомпозировать задачу в переиспользуемые и<br>тестируемые библиотеки и компоненты; хорошая<br>теоретическая подготовка в областях математики,<br>алгоритмов и структур данных, прикладной<br>статистики; практические знания Git, Bash, Docker;<br>знание SQL"
          ],
          [
           "Greenplum, Teradata, ORACLE, MSSQL, DWH, Python,<br>ETL, Hadoop, CI/CD, Jenkins, Bitbucket, Git, Linux"
          ],
          [
           "Greenplum (Arenadata DB), PostgreSQL, Clickhouse"
          ],
          [
           "Python, Machine Learning, Linux"
          ],
          [
           "Python, Machine Learning, Linux"
          ],
          [
           "Python, Machine Learning, Linux"
          ],
          [
           "Python, Docker, Kubernetes, RESTAPI"
          ],
          [
           "Опыт настройки и администрирования БД, которые<br>используются у нас - Clickhouse и Postgres (опыт с<br>Oracle или MySQL тоже подойдет);   Глубокое знание<br>принципов организации логической структуры таблиц<br>и ETL процессов на текущем месте работы;   Знание<br>Python, либо желание на него перейти с другого<br>языка с ОП"
          ],
          [
           "Python, ML, NLP"
          ],
          [
           "Python, Git, Hadoop/Spark, SQL, Linux"
          ],
          [
           "pandas, TensorFlow, PyTorch, Scikit-learn"
          ],
          [
           "Pandas, NumPy, SciPy, sklearn, SQL"
          ],
          [
           "Python, C++, Математическая статистика, Методы<br>оптимизации"
          ],
          [
           "Python, Git, Docker, Machine Learning, Stable<br>Diffusion, PyTorch, Computer Vision"
          ],
          [
           "Python, pd, lgd"
          ],
          [
           "построение рекомендаций с нуля"
          ],
          [
           "Cross-validation, Machine Learning, Python,<br>Docker, K8S"
          ],
          [
           "владение Python (pandas, numpy, seaborn,<br>matplotlib); владение SQL; опыт работы с Hadoop,<br>Spark"
          ],
          [
           "Python, SQL, Hadoop, Spark, Airflow"
          ],
          [
           "Cross-validation, Machine Learning, Python,<br>Docker, K8S"
          ],
          [
           "SQL, Python, Airflow, ORACLE, Postgres, Git,<br>Clickhouse, ETL, Jira, Trello"
          ],
          [
           "SQL, Python, Работа с базами данных,<br>Математическое моделирование, Аналитические<br>исследования, Сегментирование аудитории,<br>Кластерный анализ"
          ],
          [
           "ML, Data Science, Python, SQL, Hive, PostgreSQL,<br>Greenplum, Airflow, MLflow, Docker, FastAPI,<br>PySpark"
          ],
          [
           "Python, SQL, Базы данных, Машинное обучение, NLP"
          ],
          [
           "Python, SQL, Прогнозирование, Airflow"
          ],
          [
           "IT, поиск, Python, ML, Hadoop, Spark, Yarn, Hive,<br>HDFS, MLFlow, Разработка поисковых технологий"
          ],
          [
           "Python, data science, Разработка поисковых<br>технологий, IT"
          ],
          [
           "PD, LGD, Математическое моделирование, Python"
          ],
          [
           "Python, Machine Learning, SQL, A/B тесты, Docker,<br>Git"
          ],
          [
           "SQL, Python, Математическая статистика,<br>Математический анализ, Machine Learning, Numpy,<br>Pandas"
          ],
          [
           "Python, PyTorch, Hadoop, Computer Vision, NLP"
          ],
          [
           "Python, SQL, Spark, Базы данных, PHP, ClickHouse,<br>Elastic Search, MySQL, SCALA, TypeScript"
          ],
          [
           "Python, Математическая статистика, SQL, Анализ<br>рисков, Английский язык"
          ],
          [
           "ML и DL (Python)"
          ],
          [
           "Python, Spark, Dagster, S3, Kafka, Kubernetes"
          ],
          [
           "Python, Machine Learning"
          ],
          [
           "TTS, Text to speach, NumPy, Matplotlib, pandas,<br>PyTorch, Transformers"
          ],
          [
           "Python, Big Data, SQL, Hadoop, АВ-тестирование,<br>Математическая статистика, Математический анализ"
          ],
          [
           "Pytorch, Git, Docker, Deep learning, Python, Jira"
          ],
          [
           "Deep Learning, Прогнозирование, Time Series"
          ],
          [
           "NLP, Python, Machine Learning, Deep Learning,<br>Numpy, Алгоритмы, Машинное обучение, ML, Git"
          ],
          [
           "Python3 (numpy, pandas, scikit-learn, xgboost,<br>lightgbm, catboost, etc), git"
          ],
          [
           "PostgreSQL, ETL, DWH, ClickHouse"
          ],
          [
           "python, pandas, numpy, визуализация (matplotlib,<br>seaborn, plotly, пр.), sklearn,CatBoost, XGBoost,<br>LightGBM, Git, Flask, FastAPI- для получения<br>данных: SQL (PostgreSQL)- для мониторинга: Grafana"
          ],
          [
           "PyTorch, PySpark, Python, ML"
          ],
          [
           "Python, Machine Learning, Linux"
          ],
          [
           "Python, Machine Learning, Linux"
          ],
          [
           "Python, Machine Learning, Big Data, ML, Spark"
          ],
          [
           "matplotlib, seaborn, plotly, pandas, numpy,<br>scikit-learn, scipy, statsmodels"
          ],
          [
           "Python, SQL, Machine Learning, Анализ данных"
          ],
          [
           "Python, Docker, Pandas, Kafka, Kubernetes, Luigi,<br>Clickhouse"
          ],
          [
           "NLP, Python, PyTorch, Data Science, Numpy, Sklearn"
          ],
          [
           "Pandas, Matplotlib, Numpy, Scipy, Sklearn, SQL"
          ],
          [
           "Python, SQL, Spark"
          ],
          [
           "SAP BusinessObject, SAP DataIntegrator, MS SQL,<br>Oracle"
          ],
          [
           "Python, SQL"
          ],
          [
           "Математическое моделирование, Java, Kotlin"
          ],
          [
           "Python, PyTorch, Machine Learning, Deep Learning,<br>OpenCV, Алгоритмы, Resnet, Mobilenet, U-net, Yolo,<br>Deeplab, Computer Vision, Английский язык, GitLab<br>CI"
          ],
          [
           "SQL, Python, Kafka, Docker"
          ],
          [
           "Python, classic ML, Data Science, SQL, Airflow,<br>MLflow, Deep Learning"
          ],
          [
           "PostgreSQL, Python, SQL, MLFlow, Airflow"
          ],
          [
           "Python, SQL, PySpark, Pandas, PyTorch, RecBole,<br>Scikit-learn, MLFlow, AirFlow, Prefect, Luigi"
          ],
          [
           "Greenplum (Arenadata DB), PostgreSQL, Clickhouse"
          ],
          [
           "Python, SQL, MS SQL, ORACLE, PostgreSQL, Git, ETL,<br>Hadoop, Airflow, Spark"
          ],
          [
           "Python, Big Data, Kubernetes, FastAPI, Pytorch,<br>Triton inference server, OpenCV, Docker, Умение<br>принимать решения, Организаторские навыки,<br>Управление командой, Работа с большим объемом<br>информации"
          ],
          [
           "Python ML stack, Python NLP stack, JupyterLab"
          ],
          [
           "SQL, Python, Machine learning, Data Analysis"
          ],
          [
           "SQL, Python, Математическое моделирование, Big<br>Data, ML"
          ],
          [
           "Python, jupyter, pycharm, sql, pyspark, sparkML,<br>git, jira, confluence"
          ],
          [
           "Опыт построения моделей с помощью классического<br>ML-стека; Любовь к Python, ООП и структурам<br>данных; Навыки работы с (py)Spark, Уверенные<br>знания SQL, теории вероятности и статистики; Кейсы<br>с применением собственных методик в анализе данных<br>и построении моделей на табличных данных; Хорошие<br>отношения с Git, Jira, Confluence"
          ],
          [
           "Python, data science, Разработка поисковых<br>технологий, IT"
          ],
          [
           "NLP, Llama, LoRA"
          ],
          [
           "Python, Machine Learning, Bokeh, Plotly, SQL"
          ],
          [
           "PySpark, Airflow, Hadoop"
          ],
          [
           "Hadoop, Spark, Hive, Map Reduce, Data streaming<br>(Kafka, NiFi), Greenplum; Python Application<br>Server (Anaconda); Jupiter notebook, Jupiter Hub;<br>Red Hat, Ubuntu, CentOS; GitLab"
          ],
          [
           "Python, pd, lgd, SQL"
          ],
          [
           "SQL, ML"
          ],
          [
           "deep learning (Reinforcement Learning, RNN, LSTM);<br>знание инструментов AutoML; опыт работы с Apache<br>NiFi; отличное знание Python (scikit-learn,<br>pandas, numpy, scipy, xgboost, tensorflow/pytorch,<br>keras) Scala"
          ],
          [
           "Python, Scala"
          ],
          [
           "Python, PyTorch, Tensorflow, Pandas, Numpy,<br>Xgboost, Catboost, HuggingFace, Arima"
          ],
          [
           "Python, PL/pgSQL и SQL"
          ],
          [
           "Python, PL/pgSQL и SQL"
          ],
          [
           "Python, Docker, SCALA, Hadoop, Big Data, Spark,<br>Machine Learning"
          ],
          [
           "PostgreSQL, MS SQL Server, DWH, Power BI, Базы<br>данных, ETL"
          ],
          [
           "Python Application Server (Anaconda); Jupiter<br>notebook, Jupiter Hub; Red Hat, Ubuntu, CentOS;<br>GitLab"
          ],
          [
           "Python: PyTorch, Transformers, Peft, Scikit-learn,<br>Pandas; Spark, GitLab, Docker, Kubernetes,<br>AirFlow; Hadoop, PostgreSQL, Kafka; Jira,<br>Confluence"
          ],
          [
           "Python, DWH, PostgresSQL, CRM, ERP, SQL, ETL,<br>PowerBI, PostgreSQL, Power BI, ML"
          ],
          [
           "Python, Machine Learning, Hadoop, Spark, Big Data,<br>Kafka, Airflow"
          ],
          [
           "Python, Linux, OpenCV, PyTorch, Computer Vision"
          ],
          [
           "ML, NLP (Python)"
          ],
          [
           "PyTorch, TensorFlow, Transformers, T5, Bert,<br>HuggingFace, ChatGPT, Deep Learning, NLP, Data<br>Science, Machine Learning, ML"
          ],
          [
           "Python, data science, Разработка поисковых<br>технологий, IT"
          ],
          [
           "QA, MLOps/DevOps"
          ],
          [
           "Kafka, DWH, ClickHouse, Greenplum, Airflow,<br>Hadoop, Spark"
          ],
          [
           "data science, Python, SQL"
          ],
          [
           "Scikit-learn, TensorFlow, XGBoost, CatBoost"
          ],
          [
           "SQL, PostgreSQL, СУБД, Java, Power BI"
          ],
          [
           "C++, Python, Cuda, Computer vision, Deep Learning"
          ],
          [
           "ORACLE, Hadoop, Big Data, PostgreSQL, Spark,<br>FastApi, AirFlow"
          ],
          [
           "Clickhouse, АirFlow, Postgres, Grafana, Prometheus"
          ],
          [
           "Machine learning, Data science, RecSys"
          ],
          [
           "Python, Управление командой"
          ],
          [
           "PySpark, Airflow, Hadoop, redis, rabbitMQ, k8s,<br>LLM, NLP"
          ],
          [
           "Python, Hadoop, Big Data, Spark, Airflow, SCALA,<br>Hive, ETL, DWH"
          ],
          [
           "Python, SQL"
          ],
          [
           "Python, Big Data, Machine Learning, Hadoop, Hive,<br>Spark, ML"
          ],
          [
           "Знание R или Python (Pandas, NumPy, Scikit-Learn,<br>LightGBM, XGBoost, CatBoost)"
          ],
          [
           "Python, pytorch, numpy, sklearn, pandas, OCR, CV,<br>OpenCV, docker"
          ],
          [
           "Python, Анализ данных, Git, Docker, LLM, NLP"
          ],
          [
           "Scikit-learn, HuggingFace, PyTorch"
          ],
          [
           "Python, Docker, SCALA, Hadoop, Big Data, Spark,<br>Machine Learning"
          ],
          [
           "ML (GBDT, LR), Kotlin"
          ],
          [
           "Python, ML, Spark, Machine Learning"
          ],
          [
           "Python, PostgreSQL, nlp, MATLAB, Анализ данных,<br>PyTorch, Data Science, NLP"
          ],
          [
           "Аналитическое мышление, Аналитические<br>исследования, Математическое моделирование, Data<br>Analysis, Machine Learning, Big Data,<br>Прогнозирование, ML, MongoDB, NoSQL, ETL, MATLAB,<br>NLP, LLM-driven, LoRa, RAG, PyTorch"
          ],
          [
           "ML, Data Science"
          ],
          [
           "Transformers, GPT, LLMs, BERT, T5, чат-боты,<br>fairseq"
          ],
          [
           "Управление командой, Цифровые каналы, Цифровые<br>продажи, Аналитика данных, Структура и презентация<br>цифр, Командообразование, Бизнес-анализ,<br>Стратегическое мышление, Управление интернет-<br>проектами"
          ],
          [
           "Python, SQL, Математическая статистика, Hadoop,<br>Математическое моделирование, Spark, ML"
          ],
          [
           "Python, PostgreSQL, nlp, MATLAB, Анализ данных,<br>PyTorch, Data Science, NLP"
          ],
          [
           "Python, SQL, алгоритмы ML, Pandas, Sklearn, Numpy,<br>Математическая статистика, машинное обучение"
          ],
          [
           "MongoDB, ElasticSearch, Redis, .NET Core, Python,<br>PostgreSQL, EF Core"
          ],
          [
           "NLTK, genism, word2vec, Bert"
          ],
          [
           "Python, SQL"
          ],
          [
           "Python, Spark, SQL, Machine learning, Deep<br>learning, NLP"
          ],
          [
           "Аналитическое мышление, Аналитические<br>исследования, Математическое моделирование, Data<br>Analysis, Machine Learning, Big Data,<br>Прогнозирование, ML, MongoDB, NoSQL, ETL, MATLAB,<br>NLP, LLM-driven, LoRa, RAG, PyTorch"
          ],
          [
           "Python, SQL, PySpark, Pandas, PyTorch, RecBole,<br>Scikit-learn, MLFlow"
          ],
          [
           "Python, Математическое моделирование, Hadoop,<br>Spark, Математическая статистика"
          ],
          [
           "Machine Learning, ML, C#"
          ],
          [
           "Python, SQL, PySpark, Pandas, PyTorch, RecBole,<br>Scikit-learn, MLFlow, AirFlow, Prefect, Luigi"
          ],
          [
           "Python, SQL, PySpark, Pandas, PyTorch, RecBole,<br>Scikit-learn, MLFlow"
          ],
          [
           "Python, SQL, deep learning, ML"
          ],
          [
           "NLP, Python, PyTorch, Data Science, Numpy, Sklearn"
          ],
          [
           "Python, PyTorch, Clickhouse, Docker, K8S,<br>huggingface"
          ],
          [
           "Python, SQL"
          ],
          [
           "Machine Learning, Deep Learning, Generative<br>design, AI, ML, CV, Python, LLM"
          ],
          [
           "SQL, Python, PyTorch, Docker, Hadoop, DVC, git"
          ],
          [
           "PyTorch"
          ],
          [
           "NLP, Python, ML, Математическая статистика"
          ],
          [
           "Machine Learning, ML, Data Science, DS, Машинное<br>обучение, CV, Computer Vision, MLE, Deep Learning,<br>DL, Generative Design, GD, Генеративный Дизайн"
          ],
          [
           "PyData: Pandas, NumPy, SciPy, scikit-learn,<br>pytorch/keras/TensoFlow, SQL"
          ],
          [
           "Linux, ETL, Apache Kafka, Apache Spark, Apache<br>NiFi, SQL, Python, SCALA, Kubernetes, C#, .NET<br>Framework"
          ],
          [
           "NLP, ML, Data Science, Обучение и развитие,<br>Написание текстов"
          ]
         ],
         "hovertemplate": "<b>%{hovertext}</b><br><br>Опыт=От 3 до 6 лет<br>Нижняя вилка зарплаты=%{x}<br>Верхняя вилка зарплаты=%{y}<br>Требуемые навыки=%{customdata[0]}<extra></extra>",
         "hovertext": [
          "Data Scientist (NLP)",
          "Senior Machine Learning Engineer",
          "Computer vision инженер",
          "Data Scientist",
          "ML специалист",
          "Специалист по работе с данными",
          "Data Scientist",
          "Machine learning engineer",
          "Инженер по искусственному интеллекту (middle/senior)",
          "ML разработчик, B2B",
          "Data Scientist",
          "AI Engineer",
          "Аналитик-разработчик",
          "Лидер команды (разработка моделей для малого бизнеса)",
          "Data scientist (Анализ ГИС данных)",
          "Аналитик данных / Data analyst",
          "ML-разработчик",
          "Data Scientist",
          "Data Scientist middle/senior",
          "Руководитель центра экспертизы по искусственному интеллекту",
          "Data Engineer",
          "Data Scientist",
          "Data Scientist",
          "Промт инженер/data scientist (удаленно)",
          "Data Scientist / Machine Learning Engineer",
          "Аналитик данных",
          "Data Engineer",
          "Middle/Senior Data Scientist",
          "Machine learning Engineer / ML Engineer",
          "Data Scientist (nlp)",
          "Data Scientist (Deep Learning), Рекомендации и персонализация",
          "Senior Data Scientist",
          "Руководитель направления DS",
          "Data Engineer",
          "ML-инженер",
          "Data scientist (ML)",
          "Senior Data Science",
          "Дата-инженер (Motion Prediction)",
          "Machine Learning Engineer (NLP/LLM)",
          "Data Scientist",
          "ML Engineer (Рекомендательные системы)",
          "Machine Learning Engineer",
          "Data Scientist",
          "Team Lead DS",
          "Data Engineer",
          "Machine Learning Engineer (удаленно)",
          "Data Engineer",
          "Data Scientist в команду аукциона",
          "Архитектор данных",
          "Эконометрист / Data scientist",
          "Аналитик-математик (команда Ранжирования)",
          "Data Scientist",
          "MLOps/ML Инженер",
          "ML engineer",
          "Data Scientist",
          "Computer Vision Engineer",
          "ML Инженер",
          "Data Engineer",
          "Lead Data Engineer",
          "Machine Learning Engineer",
          "Machine Learning Engineer",
          "Machine Learning Engineer",
          "Team-Lead Data Science",
          "Дата инженер",
          "Инженер ML-группы, NLP, Ozon Fintech",
          "Data Scientist",
          "Data Scientist",
          "AI Project Manager (Data Scientist)",
          "Data Scientist (Алгоритмы оптимизации)",
          "Senior Computer Vision Engineer",
          "Team Lead Data Scientist",
          "Machine Learning Engineer (удаленно)",
          "Machine Learning Engineer (CV)",
          "Аналитик мониторинга ПВР моделей",
          "Middle Data Engineer",
          "Machine Learning Engineer (CV)",
          "Data Engineer",
          "Специалист по сегментации и кластеризации данных",
          "Data scientist (Middle/Middle+)",
          "Data Science",
          "Senior Data Scientist (Прогноз заказов)",
          "Старший Data Scientist, Эффективность рекламы",
          "Data Scientist, Ранжирование поиска",
          "Data Scientist (математическое моделирование)",
          "Data scientist (ML)",
          "Аналитик данных",
          "Data Scientist (CV+NLP)",
          "Senior Data Scientist",
          "Data scientist, проекты по разработке симуляционных моделей, моделей оценки стресс-тестирования",
          "ML&Optimization engineer",
          "Data Engineer (Perception)",
          "Data Scientist (LLM) в команду рекомендаций",
          "Data scientist TTS (Text To Speech)",
          "Team Lead Data Science",
          "Middle Research Engineer",
          "Data Scientist (Deep Learning for Demand Forecast)",
          "NLP разработчик",
          "Middle+/Senior Data Scientist (модели кредитного риска)",
          "Data Engineer",
          "Руководитель направления (team lead) Data Science",
          "Senior ML Engineer (Senior Data Scientist), Маркетплейс, Цены и анализ конкурентов",
          "Machine Learning Engineer",
          "Machine Learning Engineer",
          "Senior Data Scientist (Pricing)",
          "Data Scientist",
          "Senior Data Scientist",
          "Senior Data Engineer",
          "Middle/Senior Data Scientist в команду NLP",
          "Data Scientist Middle+/Senior",
          "ML Engineer",
          "Разработчик ETL",
          "ML Engineer RecSyS",
          "Разработчик алгоритмов оптимизации",
          "Machine Learning / Computer Vision Engineer",
          "Data engineer",
          "Senior/Lead Data Scientist",
          "Middle Data Science",
          "TeamLead Data Scientist",
          "Lead Data Engineer",
          "Data Scientist",
          "Teamlead Data Science",
          "Senior Data scientist",
          "Data Scientist/ML Engineer",
          "Data scientist (команда Collection)",
          "Data Scienti​​​​​​​st ",
          "Data Scientist (Scoring)",
          "Ведущий Data Scientist, Ранжирование поиска",
          "Data Scientist (NLP AI)",
          "ML Data Scientist (Middle, Senior)",
          "Senior Machine Learning Engineer",
          "Data Engineer / Big Data Engineer",
          "Data Scientist (Моделирование рисков розничного кредитования)",
          "Data scientist",
          "ML Engineer",
          "Senior Data инженер в команду Data Финансовой платформы",
          "Data Scientist",
          "Lead Data Engineer",
          "Lead Data Engineer",
          "ML Engineer",
          "Системный архитектор (Data Warehouse)",
          "Senior Data Engineer / Senior Big Data Engineer",
          "Data Scientinst (NLP)",
          "Data Engineer AI (удаленно)",
          "ML Engineer",
          "Computer Vision engineer (Team lead)",
          "Team Lead Data Scientist",
          "Senior NLP Researcher",
          "Ведущий Data Scientist, Ранжирование поиска",
          "Data collection engineer",
          "Data Engineer Senior/Lead",
          "Data scientist senior",
          "Data Scientist",
          "Data engineer/BI-аналитик",
          "Deep Learning Engineer (Motion Prediction)",
          "Руководитель направления MLOps",
          "Data инженер",
          "Team Lead Data Scientist (RecSys)",
          "Руководитель группы машинного обучения",
          "Data Science Team Lead",
          "Team Lead ML",
          "Data Scientist",
          "Senior Data Scientist (Ranking&Search)",
          "Senior Data Scientist",
          "Middle/Senior CV Engineer (OCR/HCR)",
          "Middle Data Scientist",
          "Senior Data Scientist (NLP) в автоматизацию коммуникаций",
          "ML Engineer",
          "Senior MLE/DS в команду рекомендаций",
          "Team Lead ML Campaining",
          "NLP engineer",
          "Middle NLP Data Scientist (LLM)",
          "Team Lead ML Engineer",
          "Senior NLP Engineer",
          "Руководитель по развитию цифрового клиентского опыта",
          "Middle/ senior data scientist (разработка моделей для казначейства и рыночных рисков)",
          "NLP engineer",
          "Senior Data science expert в Центр технологий ИИ",
          "Data Scientist",
          "Senior Data Scientist NLP",
          "Data Science Lead / Руководитель группы специалистов по машинному обучению и аналитике данных",
          "Data scientist",
          "Middle NLP Data Scientist (LLM)",
          "Senior Data Scientist",
          "Senior Data Scientist в команду моделирования партнерств и ИТ - процессов",
          "Machine Learning Lead engineer",
          "Senior Data Scientist",
          "DS NLP (LLM), Senior",
          "Senior Data Scientist (Rec. system)",
          "Middle/Senior Data Scientist в команду NLP",
          "Senior Data Scientist (NLP)",
          "Руководитель направления Data Science",
          "Team Lead Data Scientist CV (Generative design)",
          "Data Scientist Teamlead NLP",
          "Medical foundation model research data scientist CV+NLP (Middle+)",
          "Data Scientist (Автор курса \"Векторизация и работа с векторами\")",
          "Senior Data Scientist CV (Generative design)",
          "Lead data scientist (Анализ цены и Trade in)",
          "Data engineer (middle+)",
          "Автор дисциплины \"Задачи NLP в машинном обучении\""
         ],
         "legendgroup": "От 3 до 6 лет",
         "marker": {
          "color": "#00CC96",
          "size": 10,
          "symbol": "circle"
         },
         "mode": "markers",
         "name": "От 3 до 6 лет",
         "orientation": "v",
         "showlegend": true,
         "type": "scatter",
         "x": {
          "bdata": "QA0DADBXBQBADQMAsB4EAEANAwDwSQIAoIYBALAeBADwSQIA4JMEANjWAACghgEAsB4EAPBJAgCghgEAIL8CAOCTBADwSQIAUDQDAPBJAgCAqQMA4JMEAJBfAQCghgEAIL8CALAeBADgkwQAIL8CAND7AQDwSQIAwNQBAOCTBAAgvwIAgKkDACiaAQDwSQIAQA0DAMBFBACghgEA8EkCAOCTBABg6gAA4JMEAKCGAQCQ0AMAwEUEACC/AgBQNAMAwEUEAMDUAQDwSQIAwEUEAPBJAgAgvwIAwNQBALAeBADgkwQAIL8CAPBJAgBADQMA8EkCAHARAQDgkwQAwNQBAEANAwAgvwIAUDQDAPBJAgDwSQIA8EkCAMDUAQCghgEAwEUEAKCGAQCQ0AMAgDgBANjWAADA1AEAIL8CAPBJAgCghgEAIL8CALAeBABQNAMAwNQBACC/AgBADQMAEAkFAKCGAQDgkwQAwEUEAKCGAQBADQMA8EkCAKCGAQDY1gAAsB4EACC/AgDgkwQAIL8CACC/AgAgvwIA+CQBAMDUAQDwSQIA8EkCAJDQAwCghgEA0PsBALAeBABADQMA4JMEACC/AgBQNAMA0PsBALAeBADA1AEAwEUEAOCTBABADQMAwEUEALAeBAAgvwIAoIYBAFA0AwDgkwQAIL8CAEANAwCwHgQAoIYBAMDUAQCghgEAsB4EACC/AgDARQQAgDgBAKCGAQBADQMA4JMEAOCTBADwSQIAoIYBAGBbAwDA1AEAwEUEACC/AgDY1gAAIL8CACC/AgAw5gIA8EkCAOCTBACwHgQAwNQBACC/AgCwHgQAsB4EAOCTBADA1AEA8EkCAFA0AwAgvwIAIL8CAPBJAgAgvwIAwEUEACC/AgDgkwQAQA0DAEANAwBADQMAsB4EALAeBABQNAMAoIYBAFA0AwDgkwQA8EkCAND7AQDA1AEAoIYBAMBFBADQ+wEAoIYBALAeBABQNAMACEwBAPBJAgBQNAMAsB4EAMBFBAAgvwIAQA0DACC/AgCghgEAoIYBACC/AgDwSQIAsB4EAA==",
          "dtype": "i4"
         },
         "xaxis": "x",
         "y": {
          "bdata": "gBoGAJCyCADgkwQA4JMEAEANAwBADQMA0PsBADBXBQBADQMAAOIEAAhMAQDwSQIA4JMEAEANAwCwrQEAcIIDABAJBQCQ0AMAoPcDAEANAwDARQQAUKUFAOAiAgDwSQIAcIIDAADiBABQpQUAUDQDAPBJAgAgvwIA8EkCADBXBQAw5gIAwEUEAEjoAQBADQMA4JMEAPC6BAAQmAIAIL8CABAJBQCQXwEAEAkFAPBJAgCAGgYA0GwEAEANAwDwugQAEAkFAGBbAwBADQMAEAkFAGBbAwBQNAMA4CICANBsBABQpQUAwEUEAEANAwBgWwMAkNADABCYAgAwVwUAMOYCAGBbAwBwggMAwEUEAGBbAwBgWwMAIL8CAPBJAgDwSQIA8LoEABCYAgDgkwQAoIYBAOj9AAAQmAIAMOYCAEANAwAQmAIAcIIDANBsBACg9wMA8EkCAHCCAwCQ0AMA0N0GAPBJAgAwVwUA0GwEALCtAQDgkwQAkNADAPBJAgAomgEA0GwEAHCCAwAQCQUAcIIDAHCCAwBQNAMAKJoBABCYAgBADQMAIL8CAKD3AwDwSQIAAHECACAwBQBwggMAMFcFAHCCAwCg9wMAQA0DAOCTBADwSQIA8LoEAADiBACQ0AMA0GwEAFClBQBwggMAEJgCAKD3AwDwugQAcIIDAFA0AwAA4gQAsK0BAPBJAgDwSQIAIDAFAFA0AwDgkwQAIL8CABCYAgBQNAMAMFcFABAJBQBADQMA8EkCACAwBQBgWwMAEAkFAHCCAwBI6AEAkNADAHCCAwDQbAQAIL8CAFClBQBQpQUAEJgCAFA0AwBQpQUA4JMEAFClBQAQmAIAEJgCAPC6BABQNAMAcIIDAABxAgBwggMAEAkFAFA0AwAgoQcAkNADALAeBABQNAMAwEUEACAwBQCg9wMA8EkCAKD3AwCAGgYAYFsDAPBJAgDQ+wEA0PsBAPC6BAAgvwIA0PsBAMBFBABgWwMAOMEBAGBbAwCg9wMAAOIEADBXBQCQ0AMAsB4EAJDQAwAQmAIA8EkCAEANAwAgvwIAAOIEAA==",
          "dtype": "i4"
         },
         "yaxis": "y"
        },
        {
         "customdata": [
          [
           "Управление командами, Hadoop, Big Data"
          ],
          [
           "ensorflow, pytorch, CUDA, SQL"
          ],
          [
           "machine learning, pytorch, torchaudio, LangChain,<br>Saiga-2, fastText, kaldi, Milvus, cython, C++,<br>SQL, RabbitMQ, PostgreSQL, FreeSwitch"
          ],
          [
           "PostgreSQL, MySQL"
          ],
          [
           "Hadoop, Spark, Airflow, Docker"
          ],
          [
           "PostgreSQL, ClickHouse, PyTorch, Tensorflow,<br>Scikit-learn, ML, Golang"
          ],
          [
           "Python, PySpark, Pandas, PyTorch, RecBole, Scikit-<br>learn, MLFlow"
          ],
          [
           "pandas, numpy, matplotlib, sklearn, xgboost"
          ],
          [
           "Java/Scala, Golang, Python"
          ],
          [
           "OpenCV, Data Science, OCR"
          ],
          [
           "Яндекс Облако, PySpark в k8s, Jupyterhub, Airflow,<br>MLFlow, Postgres, Gitlab, Grafana"
          ],
          [
           "SQL, Анализ данных, A/B тесты, LTV prediction,<br>RecSys, Ulift modeling, Churn prediction"
          ]
         ],
         "hovertemplate": "<b>%{hovertext}</b><br><br>Опыт=Более 6 лет<br>Нижняя вилка зарплаты=%{x}<br>Верхняя вилка зарплаты=%{y}<br>Требуемые навыки=%{customdata[0]}<extra></extra>",
         "hovertext": [
          "Руководитель направления по машинному обучению и анализу больших данных",
          "Data-scientist",
          "Senior DS/ML Developer (LLM/NLP, ASR)",
          "DBA (Администратор баз данных)",
          "DevOps инженер",
          "Senior ML инженер",
          "TeamLead DS",
          "Руководитель отдела Data Science",
          "Ведущий Data Engineer / Lead (Java)",
          "Data scientist CV (senior)",
          "Исследователь больших данных/ Middle+ MLE (GeoML)",
          "Senior Data Scientist"
         ],
         "legendgroup": "Более 6 лет",
         "marker": {
          "color": "#AB63FA",
          "size": 10,
          "symbol": "circle"
         },
         "mode": "markers",
         "name": "Более 6 лет",
         "orientation": "v",
         "showlegend": true,
         "type": "scatter",
         "x": {
          "bdata": "GHMBAFA0AwAgvwIA8EkCACC/AgCghgEAQA0DAND7AQDgkwQAoIYBAND7AQBADQMA",
          "dtype": "i4"
         },
         "xaxis": "x",
         "y": {
          "bdata": "aDYCAICpAwCQ0AMAIL8CAMBFBACwrQEAcIIDACC/AgAQCQUA8EkCAHCCAwBQNAMA",
          "dtype": "i4"
         },
         "yaxis": "y"
        }
       ],
       "layout": {
        "legend": {
         "title": {
          "text": "Опыт"
         },
         "tracegroupgap": 0
        },
        "template": {
         "data": {
          "bar": [
           {
            "error_x": {
             "color": "#2a3f5f"
            },
            "error_y": {
             "color": "#2a3f5f"
            },
            "marker": {
             "line": {
              "color": "#E5ECF6",
              "width": 0.5
             },
             "pattern": {
              "fillmode": "overlay",
              "size": 10,
              "solidity": 0.2
             }
            },
            "type": "bar"
           }
          ],
          "barpolar": [
           {
            "marker": {
             "line": {
              "color": "#E5ECF6",
              "width": 0.5
             },
             "pattern": {
              "fillmode": "overlay",
              "size": 10,
              "solidity": 0.2
             }
            },
            "type": "barpolar"
           }
          ],
          "carpet": [
           {
            "aaxis": {
             "endlinecolor": "#2a3f5f",
             "gridcolor": "white",
             "linecolor": "white",
             "minorgridcolor": "white",
             "startlinecolor": "#2a3f5f"
            },
            "baxis": {
             "endlinecolor": "#2a3f5f",
             "gridcolor": "white",
             "linecolor": "white",
             "minorgridcolor": "white",
             "startlinecolor": "#2a3f5f"
            },
            "type": "carpet"
           }
          ],
          "choropleth": [
           {
            "colorbar": {
             "outlinewidth": 0,
             "ticks": ""
            },
            "type": "choropleth"
           }
          ],
          "contour": [
           {
            "colorbar": {
             "outlinewidth": 0,
             "ticks": ""
            },
            "colorscale": [
             [
              0,
              "#0d0887"
             ],
             [
              0.1111111111111111,
              "#46039f"
             ],
             [
              0.2222222222222222,
              "#7201a8"
             ],
             [
              0.3333333333333333,
              "#9c179e"
             ],
             [
              0.4444444444444444,
              "#bd3786"
             ],
             [
              0.5555555555555556,
              "#d8576b"
             ],
             [
              0.6666666666666666,
              "#ed7953"
             ],
             [
              0.7777777777777778,
              "#fb9f3a"
             ],
             [
              0.8888888888888888,
              "#fdca26"
             ],
             [
              1,
              "#f0f921"
             ]
            ],
            "type": "contour"
           }
          ],
          "contourcarpet": [
           {
            "colorbar": {
             "outlinewidth": 0,
             "ticks": ""
            },
            "type": "contourcarpet"
           }
          ],
          "heatmap": [
           {
            "colorbar": {
             "outlinewidth": 0,
             "ticks": ""
            },
            "colorscale": [
             [
              0,
              "#0d0887"
             ],
             [
              0.1111111111111111,
              "#46039f"
             ],
             [
              0.2222222222222222,
              "#7201a8"
             ],
             [
              0.3333333333333333,
              "#9c179e"
             ],
             [
              0.4444444444444444,
              "#bd3786"
             ],
             [
              0.5555555555555556,
              "#d8576b"
             ],
             [
              0.6666666666666666,
              "#ed7953"
             ],
             [
              0.7777777777777778,
              "#fb9f3a"
             ],
             [
              0.8888888888888888,
              "#fdca26"
             ],
             [
              1,
              "#f0f921"
             ]
            ],
            "type": "heatmap"
           }
          ],
          "histogram": [
           {
            "marker": {
             "pattern": {
              "fillmode": "overlay",
              "size": 10,
              "solidity": 0.2
             }
            },
            "type": "histogram"
           }
          ],
          "histogram2d": [
           {
            "colorbar": {
             "outlinewidth": 0,
             "ticks": ""
            },
            "colorscale": [
             [
              0,
              "#0d0887"
             ],
             [
              0.1111111111111111,
              "#46039f"
             ],
             [
              0.2222222222222222,
              "#7201a8"
             ],
             [
              0.3333333333333333,
              "#9c179e"
             ],
             [
              0.4444444444444444,
              "#bd3786"
             ],
             [
              0.5555555555555556,
              "#d8576b"
             ],
             [
              0.6666666666666666,
              "#ed7953"
             ],
             [
              0.7777777777777778,
              "#fb9f3a"
             ],
             [
              0.8888888888888888,
              "#fdca26"
             ],
             [
              1,
              "#f0f921"
             ]
            ],
            "type": "histogram2d"
           }
          ],
          "histogram2dcontour": [
           {
            "colorbar": {
             "outlinewidth": 0,
             "ticks": ""
            },
            "colorscale": [
             [
              0,
              "#0d0887"
             ],
             [
              0.1111111111111111,
              "#46039f"
             ],
             [
              0.2222222222222222,
              "#7201a8"
             ],
             [
              0.3333333333333333,
              "#9c179e"
             ],
             [
              0.4444444444444444,
              "#bd3786"
             ],
             [
              0.5555555555555556,
              "#d8576b"
             ],
             [
              0.6666666666666666,
              "#ed7953"
             ],
             [
              0.7777777777777778,
              "#fb9f3a"
             ],
             [
              0.8888888888888888,
              "#fdca26"
             ],
             [
              1,
              "#f0f921"
             ]
            ],
            "type": "histogram2dcontour"
           }
          ],
          "mesh3d": [
           {
            "colorbar": {
             "outlinewidth": 0,
             "ticks": ""
            },
            "type": "mesh3d"
           }
          ],
          "parcoords": [
           {
            "line": {
             "colorbar": {
              "outlinewidth": 0,
              "ticks": ""
             }
            },
            "type": "parcoords"
           }
          ],
          "pie": [
           {
            "automargin": true,
            "type": "pie"
           }
          ],
          "scatter": [
           {
            "fillpattern": {
             "fillmode": "overlay",
             "size": 10,
             "solidity": 0.2
            },
            "type": "scatter"
           }
          ],
          "scatter3d": [
           {
            "line": {
             "colorbar": {
              "outlinewidth": 0,
              "ticks": ""
             }
            },
            "marker": {
             "colorbar": {
              "outlinewidth": 0,
              "ticks": ""
             }
            },
            "type": "scatter3d"
           }
          ],
          "scattercarpet": [
           {
            "marker": {
             "colorbar": {
              "outlinewidth": 0,
              "ticks": ""
             }
            },
            "type": "scattercarpet"
           }
          ],
          "scattergeo": [
           {
            "marker": {
             "colorbar": {
              "outlinewidth": 0,
              "ticks": ""
             }
            },
            "type": "scattergeo"
           }
          ],
          "scattergl": [
           {
            "marker": {
             "colorbar": {
              "outlinewidth": 0,
              "ticks": ""
             }
            },
            "type": "scattergl"
           }
          ],
          "scattermap": [
           {
            "marker": {
             "colorbar": {
              "outlinewidth": 0,
              "ticks": ""
             }
            },
            "type": "scattermap"
           }
          ],
          "scattermapbox": [
           {
            "marker": {
             "colorbar": {
              "outlinewidth": 0,
              "ticks": ""
             }
            },
            "type": "scattermapbox"
           }
          ],
          "scatterpolar": [
           {
            "marker": {
             "colorbar": {
              "outlinewidth": 0,
              "ticks": ""
             }
            },
            "type": "scatterpolar"
           }
          ],
          "scatterpolargl": [
           {
            "marker": {
             "colorbar": {
              "outlinewidth": 0,
              "ticks": ""
             }
            },
            "type": "scatterpolargl"
           }
          ],
          "scatterternary": [
           {
            "marker": {
             "colorbar": {
              "outlinewidth": 0,
              "ticks": ""
             }
            },
            "type": "scatterternary"
           }
          ],
          "surface": [
           {
            "colorbar": {
             "outlinewidth": 0,
             "ticks": ""
            },
            "colorscale": [
             [
              0,
              "#0d0887"
             ],
             [
              0.1111111111111111,
              "#46039f"
             ],
             [
              0.2222222222222222,
              "#7201a8"
             ],
             [
              0.3333333333333333,
              "#9c179e"
             ],
             [
              0.4444444444444444,
              "#bd3786"
             ],
             [
              0.5555555555555556,
              "#d8576b"
             ],
             [
              0.6666666666666666,
              "#ed7953"
             ],
             [
              0.7777777777777778,
              "#fb9f3a"
             ],
             [
              0.8888888888888888,
              "#fdca26"
             ],
             [
              1,
              "#f0f921"
             ]
            ],
            "type": "surface"
           }
          ],
          "table": [
           {
            "cells": {
             "fill": {
              "color": "#EBF0F8"
             },
             "line": {
              "color": "white"
             }
            },
            "header": {
             "fill": {
              "color": "#C8D4E3"
             },
             "line": {
              "color": "white"
             }
            },
            "type": "table"
           }
          ]
         },
         "layout": {
          "annotationdefaults": {
           "arrowcolor": "#2a3f5f",
           "arrowhead": 0,
           "arrowwidth": 1
          },
          "autotypenumbers": "strict",
          "coloraxis": {
           "colorbar": {
            "outlinewidth": 0,
            "ticks": ""
           }
          },
          "colorscale": {
           "diverging": [
            [
             0,
             "#8e0152"
            ],
            [
             0.1,
             "#c51b7d"
            ],
            [
             0.2,
             "#de77ae"
            ],
            [
             0.3,
             "#f1b6da"
            ],
            [
             0.4,
             "#fde0ef"
            ],
            [
             0.5,
             "#f7f7f7"
            ],
            [
             0.6,
             "#e6f5d0"
            ],
            [
             0.7,
             "#b8e186"
            ],
            [
             0.8,
             "#7fbc41"
            ],
            [
             0.9,
             "#4d9221"
            ],
            [
             1,
             "#276419"
            ]
           ],
           "sequential": [
            [
             0,
             "#0d0887"
            ],
            [
             0.1111111111111111,
             "#46039f"
            ],
            [
             0.2222222222222222,
             "#7201a8"
            ],
            [
             0.3333333333333333,
             "#9c179e"
            ],
            [
             0.4444444444444444,
             "#bd3786"
            ],
            [
             0.5555555555555556,
             "#d8576b"
            ],
            [
             0.6666666666666666,
             "#ed7953"
            ],
            [
             0.7777777777777778,
             "#fb9f3a"
            ],
            [
             0.8888888888888888,
             "#fdca26"
            ],
            [
             1,
             "#f0f921"
            ]
           ],
           "sequentialminus": [
            [
             0,
             "#0d0887"
            ],
            [
             0.1111111111111111,
             "#46039f"
            ],
            [
             0.2222222222222222,
             "#7201a8"
            ],
            [
             0.3333333333333333,
             "#9c179e"
            ],
            [
             0.4444444444444444,
             "#bd3786"
            ],
            [
             0.5555555555555556,
             "#d8576b"
            ],
            [
             0.6666666666666666,
             "#ed7953"
            ],
            [
             0.7777777777777778,
             "#fb9f3a"
            ],
            [
             0.8888888888888888,
             "#fdca26"
            ],
            [
             1,
             "#f0f921"
            ]
           ]
          },
          "colorway": [
           "#636efa",
           "#EF553B",
           "#00cc96",
           "#ab63fa",
           "#FFA15A",
           "#19d3f3",
           "#FF6692",
           "#B6E880",
           "#FF97FF",
           "#FECB52"
          ],
          "font": {
           "color": "#2a3f5f"
          },
          "geo": {
           "bgcolor": "white",
           "lakecolor": "white",
           "landcolor": "#E5ECF6",
           "showlakes": true,
           "showland": true,
           "subunitcolor": "white"
          },
          "hoverlabel": {
           "align": "left"
          },
          "hovermode": "closest",
          "mapbox": {
           "style": "light"
          },
          "paper_bgcolor": "white",
          "plot_bgcolor": "#E5ECF6",
          "polar": {
           "angularaxis": {
            "gridcolor": "white",
            "linecolor": "white",
            "ticks": ""
           },
           "bgcolor": "#E5ECF6",
           "radialaxis": {
            "gridcolor": "white",
            "linecolor": "white",
            "ticks": ""
           }
          },
          "scene": {
           "xaxis": {
            "backgroundcolor": "#E5ECF6",
            "gridcolor": "white",
            "gridwidth": 2,
            "linecolor": "white",
            "showbackground": true,
            "ticks": "",
            "zerolinecolor": "white"
           },
           "yaxis": {
            "backgroundcolor": "#E5ECF6",
            "gridcolor": "white",
            "gridwidth": 2,
            "linecolor": "white",
            "showbackground": true,
            "ticks": "",
            "zerolinecolor": "white"
           },
           "zaxis": {
            "backgroundcolor": "#E5ECF6",
            "gridcolor": "white",
            "gridwidth": 2,
            "linecolor": "white",
            "showbackground": true,
            "ticks": "",
            "zerolinecolor": "white"
           }
          },
          "shapedefaults": {
           "line": {
            "color": "#2a3f5f"
           }
          },
          "ternary": {
           "aaxis": {
            "gridcolor": "white",
            "linecolor": "white",
            "ticks": ""
           },
           "baxis": {
            "gridcolor": "white",
            "linecolor": "white",
            "ticks": ""
           },
           "bgcolor": "#E5ECF6",
           "caxis": {
            "gridcolor": "white",
            "linecolor": "white",
            "ticks": ""
           }
          },
          "title": {
           "x": 0.05
          },
          "xaxis": {
           "automargin": true,
           "gridcolor": "white",
           "linecolor": "white",
           "ticks": "",
           "title": {
            "standoff": 15
           },
           "zerolinecolor": "white",
           "zerolinewidth": 2
          },
          "yaxis": {
           "automargin": true,
           "gridcolor": "white",
           "linecolor": "white",
           "ticks": "",
           "title": {
            "standoff": 15
           },
           "zerolinecolor": "white",
           "zerolinewidth": 2
          }
         }
        },
        "title": {
         "text": "Распределение заработных плат в зависимости от опыта"
        },
        "xaxis": {
         "anchor": "y",
         "domain": [
          0,
          1
         ],
         "title": {
          "text": "Нижняя вилка зарплаты"
         }
        },
        "yaxis": {
         "anchor": "x",
         "domain": [
          0,
          1
         ],
         "title": {
          "text": "Верхняя вилка зарплаты"
         }
        }
       }
      }
     },
     "metadata": {},
     "output_type": "display_data"
    }
   ],
   "source": [
    "fig = px.scatter(data_frame=df, \n",
    "                 x='sal_from', \n",
    "                 y='sal_to', \n",
    "                 color='experience',\n",
    "                 title='Распределение заработных плат в зависимости от опыта',\n",
    "                 hover_name='name', \n",
    "                 hover_data=['sal_to', 'sal_from', 'skills'], \n",
    "                 color_discrete_sequence=px.colors.qualitative.Plotly,\n",
    "                 category_orders={\"experience\":\n",
    "                                  [\"Нет опыта\", \"От 1 года до 3 лет\", \"От 3 до 6 лет\", \"Более 6 лет\"]},\n",
    "               labels={'experience': 'Опыт', \n",
    "                       'sal_to': 'Верхняя вилка зарплаты', \n",
    "                       'sal_from': 'Нижняя вилка зарплаты',\n",
    "                       'skills': 'Требуемые навыки'}\n",
    "              ).update_traces(marker_size=10)\n",
    "fig"
   ]
  },
  {
   "cell_type": "code",
   "execution_count": null,
   "metadata": {},
   "outputs": [],
   "source": []
  }
 ],
 "metadata": {
  "kernelspec": {
   "display_name": ".venv",
   "language": "python",
   "name": "python3"
  },
  "language_info": {
   "codemirror_mode": {
    "name": "ipython",
    "version": 3
   },
   "file_extension": ".py",
   "mimetype": "text/x-python",
   "name": "python",
   "nbconvert_exporter": "python",
   "pygments_lexer": "ipython3",
   "version": "3.12.4"
  }
 },
 "nbformat": 4,
 "nbformat_minor": 2
}
